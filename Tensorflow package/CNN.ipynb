{
 "cells": [
  {
   "cell_type": "code",
   "execution_count": 2,
   "metadata": {
    "collapsed": true,
    "scrolled": true
   },
   "outputs": [],
   "source": [
    "import tensorflow as tf\n",
    "import matplotlib.pyplot as plt\n",
    "%matplotlib inline\n",
    "import numpy as np"
   ]
  },
  {
   "cell_type": "code",
   "execution_count": 3,
   "metadata": {},
   "outputs": [
    {
     "name": "stdout",
     "output_type": "stream",
     "text": [
      "Tensorflow version: 2.0.0\n"
     ]
    }
   ],
   "source": [
    "print('Tensorflow version: %s' % tf.__version__)"
   ]
  },
  {
   "cell_type": "code",
   "execution_count": 4,
   "metadata": {},
   "outputs": [
    {
     "data": {
      "text/plain": [
       "False"
      ]
     },
     "execution_count": 4,
     "metadata": {},
     "output_type": "execute_result"
    }
   ],
   "source": [
    "tf.test.is_gpu_available()"
   ]
  },
  {
   "cell_type": "code",
   "execution_count": 5,
   "metadata": {
    "collapsed": true
   },
   "outputs": [],
   "source": [
    "fashion_mnist = tf.keras.datasets.fashion_mnist\n",
    "(train_image, train_label), (test_image, test_label) = fashion_mnist.load_data()"
   ]
  },
  {
   "cell_type": "code",
   "execution_count": 6,
   "metadata": {},
   "outputs": [
    {
     "data": {
      "text/plain": [
       "<matplotlib.colorbar.Colorbar at 0x1c9245399e8>"
      ]
     },
     "execution_count": 6,
     "metadata": {},
     "output_type": "execute_result"
    },
    {
     "data": {
      "image/png": "[encoded data removed]",
      "text/plain": [
       "<Figure size 360x360 with 2 Axes>"
      ]
     },
     "metadata": {},
     "output_type": "display_data"
    }
   ],
   "source": [
    "train_image = train_image\n",
    "plt.figure(figsize=(5,5))\n",
    "plt.imshow(train_image[0])\n",
    "plt.colorbar()"
   ]
  },
  {
   "cell_type": "code",
   "execution_count": 7,
   "metadata": {},
   "outputs": [
    {
     "data": {
      "text/plain": [
       "(10000, 28, 28)"
      ]
     },
     "execution_count": 7,
     "metadata": {},
     "output_type": "execute_result"
    }
   ],
   "source": [
    "test_image.shape"
   ]
  },
  {
   "cell_type": "code",
   "execution_count": 8,
   "metadata": {
    "collapsed": true
   },
   "outputs": [],
   "source": [
    "train_image = np.expand_dims(train_image,-1)"
   ]
  },
  {
   "cell_type": "code",
   "execution_count": 9,
   "metadata": {},
   "outputs": [
    {
     "data": {
      "text/plain": [
       "(60000, 28, 28, 1)"
      ]
     },
     "execution_count": 9,
     "metadata": {},
     "output_type": "execute_result"
    }
   ],
   "source": [
    "train_image.shape"
   ]
  },
  {
   "cell_type": "code",
   "execution_count": 10,
   "metadata": {
    "collapsed": true
   },
   "outputs": [],
   "source": [
    "test_image = np.expand_dims(test_image,-1)"
   ]
  },
  {
   "cell_type": "code",
   "execution_count": 11,
   "metadata": {},
   "outputs": [
    {
     "data": {
      "text/plain": [
       "(10000, 28, 28, 1)"
      ]
     },
     "execution_count": 11,
     "metadata": {},
     "output_type": "execute_result"
    }
   ],
   "source": [
    "test_image.shape"
   ]
  },
  {
   "cell_type": "code",
   "execution_count": 12,
   "metadata": {
    "collapsed": true
   },
   "outputs": [],
   "source": [
    "model = tf.keras.Sequential()\n",
    "model.add(tf.keras.layers.Conv2D(32, (3,3), \n",
    "                                 input_shape=train_image.shape[1:],\n",
    "                                 activation='relu',\n",
    "                                 padding='same'))"
   ]
  },
  {
   "cell_type": "code",
   "execution_count": 13,
   "metadata": {},
   "outputs": [
    {
     "data": {
      "text/plain": [
       "(None, 28, 28, 32)"
      ]
     },
     "execution_count": 13,
     "metadata": {},
     "output_type": "execute_result"
    }
   ],
   "source": [
    "model.output_shape"
   ]
  },
  {
   "cell_type": "code",
   "execution_count": 14,
   "metadata": {
    "collapsed": true
   },
   "outputs": [],
   "source": [
    "model.add(tf.keras.layers.MaxPooling2D())"
   ]
  },
  {
   "cell_type": "code",
   "execution_count": 15,
   "metadata": {},
   "outputs": [
    {
     "data": {
      "text/plain": [
       "(None, 14, 14, 32)"
      ]
     },
     "execution_count": 15,
     "metadata": {},
     "output_type": "execute_result"
    }
   ],
   "source": [
    "model.output_shape"
   ]
  },
  {
   "cell_type": "code",
   "execution_count": 16,
   "metadata": {
    "collapsed": true
   },
   "outputs": [],
   "source": [
    "model.add(tf.keras.layers.Conv2D(64, (3,3),\n",
    "                                 activation='relu'))"
   ]
  },
  {
   "cell_type": "code",
   "execution_count": 17,
   "metadata": {},
   "outputs": [
    {
     "data": {
      "text/plain": [
       "(None, 12, 12, 64)"
      ]
     },
     "execution_count": 17,
     "metadata": {},
     "output_type": "execute_result"
    }
   ],
   "source": [
    "model.output_shape"
   ]
  },
  {
   "cell_type": "code",
   "execution_count": 18,
   "metadata": {
    "collapsed": true
   },
   "outputs": [],
   "source": [
    "model.add(tf.keras.layers.GlobalAveragePooling2D())"
   ]
  },
  {
   "cell_type": "code",
   "execution_count": 19,
   "metadata": {},
   "outputs": [
    {
     "data": {
      "text/plain": [
       "(None, 64)"
      ]
     },
     "execution_count": 19,
     "metadata": {},
     "output_type": "execute_result"
    }
   ],
   "source": [
    "model.output_shape"
   ]
  },
  {
   "cell_type": "code",
   "execution_count": 20,
   "metadata": {},
   "outputs": [],
   "source": [
    "model = tf.keras.Sequential()\n",
    "model.add(tf.keras.layers.Conv2D(32, (3,3), input_shape=train_image.shape[1:], activation='relu'))\n",
    "model.add(tf.keras.layers.MaxPooling2D())\n",
    "model.add(tf.keras.layers.Conv2D(64, (3,3), activation='relu'))\n",
    "model.add(tf.keras.layers.GlobalAveragePooling2D())\n",
    "model.add(tf.keras.layers.Dense(10, activation='softmax'))"
   ]
  },
  {
   "cell_type": "code",
   "execution_count": 21,
   "metadata": {},
   "outputs": [
    {
     "name": "stdout",
     "output_type": "stream",
     "text": [
      "Model: \"sequential_1\"\n",
      "_________________________________________________________________\n",
      "Layer (type)                 Output Shape              Param #   \n",
      "=================================================================\n",
      "conv2d_2 (Conv2D)            (None, 26, 26, 32)        320       \n",
      "_________________________________________________________________\n",
      "max_pooling2d_1 (MaxPooling2 (None, 13, 13, 32)        0         \n",
      "_________________________________________________________________\n",
      "conv2d_3 (Conv2D)            (None, 11, 11, 64)        18496     \n",
      "_________________________________________________________________\n",
      "global_average_pooling2d_1 ( (None, 64)                0         \n",
      "_________________________________________________________________\n",
      "dense (Dense)                (None, 10)                650       \n",
      "=================================================================\n",
      "Total params: 19,466\n",
      "Trainable params: 19,466\n",
      "Non-trainable params: 0\n",
      "_________________________________________________________________\n"
     ]
    }
   ],
   "source": [
    "model.summary()"
   ]
  },
  {
   "cell_type": "code",
   "execution_count": 22,
   "metadata": {
    "collapsed": true
   },
   "outputs": [],
   "source": [
    "model.compile(optimizer='adam', loss='sparse_categorical_crossentropy', metrics=['acc'])"
   ]
  },
  {
   "cell_type": "code",
   "execution_count": 23,
   "metadata": {},
   "outputs": [
    {
     "name": "stdout",
     "output_type": "stream",
     "text": [
      "Train on 60000 samples, validate on 10000 samples\n",
      "Epoch 1/30\n",
      "60000/60000 [==============================] - 23s 390us/sample - loss: 0.8207 - acc: 0.7333 - val_loss: 0.5233 - val_acc: 0.8245\n",
      "Epoch 2/30\n",
      "60000/60000 [==============================] - 22s 360us/sample - loss: 0.4910 - acc: 0.8273 - val_loss: 0.5031 - val_acc: 0.8221\n",
      "Epoch 3/30\n",
      "60000/60000 [==============================] - 21s 357us/sample - loss: 0.4326 - acc: 0.8485 - val_loss: 0.4354 - val_acc: 0.8480\n",
      "Epoch 4/30\n",
      "60000/60000 [==============================] - 21s 356us/sample - loss: 0.3989 - acc: 0.8598 - val_loss: 0.4024 - val_acc: 0.8590\n",
      "Epoch 5/30\n",
      "60000/60000 [==============================] - 22s 359us/sample - loss: 0.3701 - acc: 0.8706 - val_loss: 0.3785 - val_acc: 0.8676\n",
      "Epoch 6/30\n",
      "60000/60000 [==============================] - 22s 359us/sample - loss: 0.3525 - acc: 0.8760 - val_loss: 0.3569 - val_acc: 0.8752\n",
      "Epoch 7/30\n",
      "60000/60000 [==============================] - 21s 344us/sample - loss: 0.3344 - acc: 0.8828 - val_loss: 0.4113 - val_acc: 0.8477\n",
      "Epoch 8/30\n",
      "60000/60000 [==============================] - 21s 350us/sample - loss: 0.3216 - acc: 0.8856 - val_loss: 0.3580 - val_acc: 0.8743\n",
      "Epoch 9/30\n",
      "60000/60000 [==============================] - 22s 359us/sample - loss: 0.3095 - acc: 0.8912 - val_loss: 0.3593 - val_acc: 0.8743\n",
      "Epoch 10/30\n",
      "60000/60000 [==============================] - 20s 341us/sample - loss: 0.2995 - acc: 0.8940 - val_loss: 0.3311 - val_acc: 0.8858\n",
      "Epoch 11/30\n",
      "60000/60000 [==============================] - 20s 338us/sample - loss: 0.2897 - acc: 0.8959 - val_loss: 0.3317 - val_acc: 0.8857\n",
      "Epoch 12/30\n",
      "60000/60000 [==============================] - 20s 338us/sample - loss: 0.2813 - acc: 0.9010 - val_loss: 0.3268 - val_acc: 0.8873\n",
      "Epoch 13/30\n",
      "60000/60000 [==============================] - 20s 336us/sample - loss: 0.2745 - acc: 0.9028 - val_loss: 0.3233 - val_acc: 0.8877\n",
      "Epoch 14/30\n",
      "60000/60000 [==============================] - 20s 339us/sample - loss: 0.2662 - acc: 0.9055 - val_loss: 0.3365 - val_acc: 0.8863\n",
      "Epoch 15/30\n",
      "60000/60000 [==============================] - 20s 339us/sample - loss: 0.2585 - acc: 0.9083 - val_loss: 0.3387 - val_acc: 0.8853\n",
      "Epoch 16/30\n",
      "60000/60000 [==============================] - 20s 339us/sample - loss: 0.2527 - acc: 0.9091 - val_loss: 0.3213 - val_acc: 0.8901\n",
      "Epoch 17/30\n",
      "60000/60000 [==============================] - 20s 340us/sample - loss: 0.2492 - acc: 0.9112 - val_loss: 0.3283 - val_acc: 0.8872\n",
      "Epoch 18/30\n",
      "60000/60000 [==============================] - 21s 348us/sample - loss: 0.2417 - acc: 0.9136 - val_loss: 0.3131 - val_acc: 0.8931\n",
      "Epoch 19/30\n",
      "60000/60000 [==============================] - 22s 365us/sample - loss: 0.2401 - acc: 0.9144 - val_loss: 0.3582 - val_acc: 0.8831\n",
      "Epoch 20/30\n",
      "60000/60000 [==============================] - 21s 358us/sample - loss: 0.2348 - acc: 0.9163 - val_loss: 0.3145 - val_acc: 0.8948\n",
      "Epoch 21/30\n",
      "60000/60000 [==============================] - 22s 359us/sample - loss: 0.2312 - acc: 0.9160 - val_loss: 0.3564 - val_acc: 0.8755\n",
      "Epoch 22/30\n",
      "60000/60000 [==============================] - 21s 347us/sample - loss: 0.2248 - acc: 0.9197 - val_loss: 0.3554 - val_acc: 0.8892\n",
      "Epoch 23/30\n",
      "60000/60000 [==============================] - 21s 350us/sample - loss: 0.2207 - acc: 0.9210 - val_loss: 0.3169 - val_acc: 0.8958\n",
      "Epoch 24/30\n",
      "60000/60000 [==============================] - 21s 350us/sample - loss: 0.2195 - acc: 0.9211 - val_loss: 0.3406 - val_acc: 0.8866\n",
      "Epoch 25/30\n",
      "60000/60000 [==============================] - 21s 355us/sample - loss: 0.2134 - acc: 0.9237 - val_loss: 0.3191 - val_acc: 0.8907\n",
      "Epoch 26/30\n",
      "60000/60000 [==============================] - 22s 363us/sample - loss: 0.2081 - acc: 0.9254 - val_loss: 0.3295 - val_acc: 0.8882\n",
      "Epoch 27/30\n",
      "60000/60000 [==============================] - 22s 370us/sample - loss: 0.2061 - acc: 0.9260 - val_loss: 0.3118 - val_acc: 0.8950\n",
      "Epoch 28/30\n",
      "60000/60000 [==============================] - 23s 376us/sample - loss: 0.2023 - acc: 0.9274 - val_loss: 0.3223 - val_acc: 0.8926\n",
      "Epoch 29/30\n",
      "60000/60000 [==============================] - 22s 359us/sample - loss: 0.2008 - acc: 0.9275 - val_loss: 0.3179 - val_acc: 0.8954\n",
      "Epoch 30/30\n",
      "60000/60000 [==============================] - 21s 355us/sample - loss: 0.1960 - acc: 0.9297 - val_loss: 0.3354 - val_acc: 0.8924\n"
     ]
    }
   ],
   "source": [
    "history = model.fit(train_image, train_label, epochs=30, validation_data=(test_image, test_label))"
   ]
  },
  {
   "cell_type": "code",
   "execution_count": 24,
   "metadata": {},
   "outputs": [
    {
     "data": {
      "text/plain": [
       "dict_keys(['loss', 'acc', 'val_loss', 'val_acc'])"
      ]
     },
     "execution_count": 24,
     "metadata": {},
     "output_type": "execute_result"
    }
   ],
   "source": [
    "history.history.keys()"
   ]
  },
  {
   "cell_type": "code",
   "execution_count": 25,
   "metadata": {},
   "outputs": [
    {
     "data": {
      "text/plain": [
       "[<matplotlib.lines.Line2D at 0x1c928171470>]"
      ]
     },
     "execution_count": 25,
     "metadata": {},
     "output_type": "execute_result"
    },
    {
     "data": {
      "image/png": "[encoded data removed]",
      "text/plain": [
       "<Figure size 432x288 with 1 Axes>"
      ]
     },
     "metadata": {},
     "output_type": "display_data"
    }
   ],
   "source": [
    "plt.plot(history.epoch, history.history.get('acc'), label='acc')\n",
    "plt.plot(history.epoch, history.history.get('val_acc'), label='val_acc')"
   ]
  },
  {
   "cell_type": "code",
   "execution_count": 26,
   "metadata": {},
   "outputs": [
    {
     "data": {
      "text/plain": [
       "[<matplotlib.lines.Line2D at 0x1c9288ca860>]"
      ]
     },
     "execution_count": 26,
     "metadata": {},
     "output_type": "execute_result"
    },
    {
     "data": {
      "image/png": "[encoded data removed]",
      "text/plain": [
       "<Figure size 432x288 with 1 Axes>"
      ]
     },
     "metadata": {},
     "output_type": "display_data"
    }
   ],
   "source": [
    "plt.plot(history.epoch, history.history.get('loss'), label='loss')\n",
    "plt.plot(history.epoch, history.history.get('val_loss'), label='val_loss')"
   ]
  },
  {
   "cell_type": "code",
   "execution_count": null,
   "metadata": {
    "collapsed": true
   },
   "outputs": [],
   "source": [
    ""
   ]
  }
 ],
 "metadata": {
  "kernelspec": {
   "display_name": "Python 3",
   "language": "python",
   "name": "python3"
  },
  "language_info": {
   "codemirror_mode": {
    "name": "ipython",
    "version": 3.0
   },
   "file_extension": ".py",
   "mimetype": "text/x-python",
   "name": "python",
   "nbconvert_exporter": "python",
   "pygments_lexer": "ipython3",
   "version": "3.6.2"
  }
 },
 "nbformat": 4,
 "nbformat_minor": 0
}