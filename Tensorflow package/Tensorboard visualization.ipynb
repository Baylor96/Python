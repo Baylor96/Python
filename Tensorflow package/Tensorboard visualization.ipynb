{
 "cells": [
  {
   "cell_type": "code",
   "execution_count": 1,
   "metadata": {},
   "outputs": [],
   "source": [
    "import tensorflow  as tf\n",
    "import datetime"
   ]
  },
  {
   "cell_type": "code",
   "execution_count": 2,
   "metadata": {},
   "outputs": [
    {
     "data": {
      "text/plain": [
       "'2.0.0'"
      ]
     },
     "execution_count": 2,
     "metadata": {},
     "output_type": "execute_result"
    }
   ],
   "source": [
    "tf.__version__"
   ]
  },
  {
   "cell_type": "code",
   "execution_count": 3,
   "metadata": {},
   "outputs": [],
   "source": [
    "(train_image, train_label), (test_image, test_label) = tf.keras.datasets.mnist.load_data()"
   ]
  },
  {
   "cell_type": "code",
   "execution_count": 4,
   "metadata": {},
   "outputs": [
    {
     "data": {
      "text/plain": [
       "(60000, 28, 28)"
      ]
     },
     "execution_count": 4,
     "metadata": {},
     "output_type": "execute_result"
    }
   ],
   "source": [
    "train_image.shape"
   ]
  },
  {
   "cell_type": "code",
   "execution_count": 5,
   "metadata": {},
   "outputs": [],
   "source": [
    "train_image = tf.expand_dims(train_image, -1)\n",
    "test_image = tf.expand_dims(test_image, -1)"
   ]
  },
  {
   "cell_type": "code",
   "execution_count": 6,
   "metadata": {},
   "outputs": [
    {
     "data": {
      "text/plain": [
       "(TensorShape([60000, 28, 28, 1]), TensorShape([10000, 28, 28, 1]))"
      ]
     },
     "execution_count": 6,
     "metadata": {},
     "output_type": "execute_result"
    }
   ],
   "source": [
    "train_image.shape, test_image.shape"
   ]
  },
  {
   "cell_type": "code",
   "execution_count": 7,
   "metadata": {},
   "outputs": [],
   "source": [
    "train_image = tf.cast(train_image/255, tf.float32)\n",
    "test_image = tf.cast(test_image/255, tf.float32)"
   ]
  },
  {
   "cell_type": "code",
   "execution_count": 8,
   "metadata": {},
   "outputs": [],
   "source": [
    "train_label = tf.cast(train_label, tf.int64)\n",
    "test_label = tf.cast(test_label, tf.int64)"
   ]
  },
  {
   "cell_type": "code",
   "execution_count": 9,
   "metadata": {},
   "outputs": [],
   "source": [
    "dataset_train = tf.data.Dataset.from_tensor_slices((train_image, train_label))\n",
    "dataset_test = tf.data.Dataset.from_tensor_slices((test_image, test_label))"
   ]
  },
  {
   "cell_type": "code",
   "execution_count": 10,
   "metadata": {},
   "outputs": [
    {
     "data": {
      "text/plain": [
       "(<TensorSliceDataset shapes: ((28, 28, 1), ()), types: (tf.float32, tf.int64)>,\n",
       " <TensorSliceDataset shapes: ((28, 28, 1), ()), types: (tf.float32, tf.int64)>)"
      ]
     },
     "execution_count": 10,
     "metadata": {},
     "output_type": "execute_result"
    }
   ],
   "source": [
    "dataset_train, dataset_test"
   ]
  },
  {
   "cell_type": "code",
   "execution_count": 11,
   "metadata": {},
   "outputs": [],
   "source": [
    "dataset_train = dataset_train.repeat().shuffle(60000).batch(128)\n",
    "dataset_test = dataset_test.batch(128)"
   ]
  },
  {
   "cell_type": "code",
   "execution_count": 12,
   "metadata": {},
   "outputs": [
    {
     "data": {
      "text/plain": [
       "<BatchDataset shapes: ((None, 28, 28, 1), (None,)), types: (tf.float32, tf.int64)>"
      ]
     },
     "execution_count": 12,
     "metadata": {},
     "output_type": "execute_result"
    }
   ],
   "source": [
    "dataset_train"
   ]
  },
  {
   "cell_type": "code",
   "execution_count": 13,
   "metadata": {},
   "outputs": [],
   "source": [
    "model = tf.keras.Sequential([\n",
    "    tf.keras.layers.Conv2D(16, [3,3], input_shape = (None, None, 1), activation='relu'),\n",
    "    tf.keras.layers.Conv2D(32, [3,3], activation='relu'),\n",
    "    tf.keras.layers.GlobalMaxPooling2D(),\n",
    "    tf.keras.layers.Dense(10, activation='softmax')\n",
    "])"
   ]
  },
  {
   "cell_type": "code",
   "execution_count": 14,
   "metadata": {},
   "outputs": [],
   "source": [
    "model.compile(optimizer='Adam', loss='sparse_categorical_crossentropy', metrics=['accuracy'])"
   ]
  },
  {
   "cell_type": "code",
   "execution_count": 15,
   "metadata": {},
   "outputs": [],
   "source": [
    "import os"
   ]
  },
  {
   "cell_type": "code",
   "execution_count": 16,
   "metadata": {},
   "outputs": [],
   "source": [
    "log_dir = os.path.join('logs', datetime.datetime.now().strftime('%Y%m%d-%H%M%S'))"
   ]
  },
  {
   "cell_type": "code",
   "execution_count": 17,
   "metadata": {},
   "outputs": [],
   "source": [
    "tensorboard_callback = tf.keras.callbacks.TensorBoard(log_dir, histogram_freq=1)"
   ]
  },
  {
   "cell_type": "code",
   "execution_count": 18,
   "metadata": {},
   "outputs": [],
   "source": [
    "file_writer = tf.summary.create_file_writer(log_dir + '/lr')"
   ]
  },
  {
   "cell_type": "code",
   "execution_count": 19,
   "metadata": {},
   "outputs": [
    {
     "data": {
      "text/plain": [
       "<bound method ResourceSummaryWriter.set_as_default of <tensorflow.python.ops.summary_ops_v2.ResourceSummaryWriter object at 0x63de1fc10>>"
      ]
     },
     "execution_count": 19,
     "metadata": {},
     "output_type": "execute_result"
    }
   ],
   "source": [
    "file_writer.set_as_default"
   ]
  },
  {
   "cell_type": "code",
   "execution_count": 20,
   "metadata": {},
   "outputs": [],
   "source": [
    "def lr_sche(epoch):\n",
    "    learing_rate = 0.2\n",
    "    if epoch > 5:\n",
    "        learing_rate = 0.02\n",
    "    if epoch > 10:\n",
    "        learing_rate = 0.01\n",
    "    if epoch > 20:\n",
    "        learing_rate = 0.005\n",
    "    tf.summary.scalar('leaning_rate', data=learing_rate, step=epoch)\n",
    "    return learing_rate"
   ]
  },
  {
   "cell_type": "code",
   "execution_count": 21,
   "metadata": {},
   "outputs": [],
   "source": [
    "lr_callback = tf.keras.callbacks.LearningRateScheduler(lr_sche)"
   ]
  },
  {
   "cell_type": "code",
   "execution_count": 22,
   "metadata": {},
   "outputs": [
    {
     "name": "stdout",
     "output_type": "stream",
     "text": [
      "Train for 468 steps, validate for 78 steps\n",
      "Epoch 1/25\n",
      "468/468 [==============================] - 22s 48ms/step - loss: 2.3722 - accuracy: 0.1003 - val_loss: 2.3105 - val_accuracy: 0.1032\n",
      "Epoch 2/25\n",
      "468/468 [==============================] - 21s 45ms/step - loss: 2.3132 - accuracy: 0.1009 - val_loss: 2.3129 - val_accuracy: 0.0981\n",
      "Epoch 3/25\n",
      "468/468 [==============================] - 25s 53ms/step - loss: 2.3128 - accuracy: 0.1019 - val_loss: 2.3075 - val_accuracy: 0.1135\n",
      "Epoch 4/25\n",
      "468/468 [==============================] - 21s 45ms/step - loss: 2.3122 - accuracy: 0.1039 - val_loss: 2.3070 - val_accuracy: 0.0982\n",
      "Epoch 5/25\n",
      "468/468 [==============================] - 19s 42ms/step - loss: 2.3135 - accuracy: 0.1018 - val_loss: 2.3149 - val_accuracy: 0.0981\n",
      "Epoch 6/25\n",
      "468/468 [==============================] - 21s 45ms/step - loss: 2.3122 - accuracy: 0.1043 - val_loss: 2.3041 - val_accuracy: 0.1029\n",
      "Epoch 7/25\n",
      "468/468 [==============================] - 20s 42ms/step - loss: 2.3025 - accuracy: 0.1102 - val_loss: 2.3042 - val_accuracy: 0.0958\n",
      "Epoch 8/25\n",
      "468/468 [==============================] - 22s 46ms/step - loss: 2.3019 - accuracy: 0.1110 - val_loss: 2.3023 - val_accuracy: 0.1032\n",
      "Epoch 9/25\n",
      "468/468 [==============================] - 21s 44ms/step - loss: 2.3028 - accuracy: 0.1074 - val_loss: 2.3024 - val_accuracy: 0.1032\n",
      "Epoch 10/25\n",
      "468/468 [==============================] - 21s 44ms/step - loss: 2.3025 - accuracy: 0.1080 - val_loss: 2.3019 - val_accuracy: 0.1135\n",
      "Epoch 11/25\n",
      "468/468 [==============================] - 22s 47ms/step - loss: 2.3027 - accuracy: 0.1091 - val_loss: 2.3034 - val_accuracy: 0.1029\n",
      "Epoch 12/25\n",
      "468/468 [==============================] - 22s 47ms/step - loss: 2.3019 - accuracy: 0.1111 - val_loss: 2.3025 - val_accuracy: 0.1135\n",
      "Epoch 13/25\n",
      "468/468 [==============================] - 20s 44ms/step - loss: 2.3020 - accuracy: 0.1083 - val_loss: 2.3019 - val_accuracy: 0.1135\n",
      "Epoch 14/25\n",
      "468/468 [==============================] - 20s 43ms/step - loss: 2.3018 - accuracy: 0.1104 - val_loss: 2.3024 - val_accuracy: 0.1135\n",
      "Epoch 15/25\n",
      "468/468 [==============================] - 21s 44ms/step - loss: 2.3018 - accuracy: 0.1139 - val_loss: 2.3016 - val_accuracy: 0.1135\n",
      "Epoch 16/25\n",
      "468/468 [==============================] - 23s 49ms/step - loss: 2.3019 - accuracy: 0.1117 - val_loss: 2.3016 - val_accuracy: 0.1135\n",
      "Epoch 17/25\n",
      "468/468 [==============================] - 24s 51ms/step - loss: 2.3019 - accuracy: 0.1118 - val_loss: 2.3015 - val_accuracy: 0.1135\n",
      "Epoch 18/25\n",
      "468/468 [==============================] - 24s 51ms/step - loss: 2.3018 - accuracy: 0.1123 - val_loss: 2.3010 - val_accuracy: 0.1135\n",
      "Epoch 19/25\n",
      "468/468 [==============================] - 23s 50ms/step - loss: 2.3019 - accuracy: 0.1107 - val_loss: 2.3016 - val_accuracy: 0.1135\n",
      "Epoch 20/25\n",
      "468/468 [==============================] - 32s 68ms/step - loss: 2.3020 - accuracy: 0.1124 - val_loss: 2.3018 - val_accuracy: 0.1135\n",
      "Epoch 21/25\n",
      "468/468 [==============================] - 33s 71ms/step - loss: 2.3016 - accuracy: 0.1129 - val_loss: 2.3020 - val_accuracy: 0.1135\n",
      "Epoch 22/25\n",
      "468/468 [==============================] - 22s 47ms/step - loss: 2.3018 - accuracy: 0.1108 - val_loss: 2.3013 - val_accuracy: 0.1135\n",
      "Epoch 23/25\n",
      "468/468 [==============================] - 22s 48ms/step - loss: 2.3014 - accuracy: 0.1109 - val_loss: 2.3013 - val_accuracy: 0.1135\n",
      "Epoch 24/25\n",
      "468/468 [==============================] - 29s 61ms/step - loss: 2.3017 - accuracy: 0.1125 - val_loss: 2.3013 - val_accuracy: 0.1135\n",
      "Epoch 25/25\n",
      "468/468 [==============================] - 28s 59ms/step - loss: 2.3017 - accuracy: 0.1125 - val_loss: 2.3012 - val_accuracy: 0.1135\n"
     ]
    },
    {
     "data": {
      "text/plain": [
       "<tensorflow.python.keras.callbacks.History at 0x640457310>"
      ]
     },
     "execution_count": 22,
     "metadata": {},
     "output_type": "execute_result"
    }
   ],
   "source": [
    "model.fit(\n",
    "    dataset_train, \n",
    "    epochs=25, \n",
    "    steps_per_epoch=60000//128, \n",
    "    validation_data=dataset_test, \n",
    "    validation_steps=10000//128, \n",
    "    callbacks=[tensorboard_callback, lr_callback]\n",
    ")"
   ]
  },
  {
   "cell_type": "code",
   "execution_count": 23,
   "metadata": {},
   "outputs": [],
   "source": [
    "%load_ext tensorboard\n",
    "%matplotlib inline"
   ]
  },
  {
   "cell_type": "code",
   "execution_count": 24,
   "metadata": {},
   "outputs": [
    {
     "data": {
      "text/html": [
       "\n",
       "      <iframe id=\"tensorboard-frame-5a4cb644293df1be\" width=\"100%\" height=\"800\" frameborder=\"0\">\n",
       "      </iframe>\n",
       "      <script>\n",
       "        (function() {\n",
       "          const frame = document.getElementById(\"tensorboard-frame-5a4cb644293df1be\");\n",
       "          const url = new URL(\"/\", window.location);\n",
       "          url.port = 6006;\n",
       "          frame.src = url;\n",
       "        })();\n",
       "      </script>\n",
       "  "
      ],
      "text/plain": [
       "<IPython.core.display.HTML object>"
      ]
     },
     "metadata": {},
     "output_type": "display_data"
    }
   ],
   "source": [
    "%tensorboard --logdir logs"
   ]
  },
  {
   "cell_type": "code",
   "execution_count": null,
   "metadata": {},
   "outputs": [],
   "source": []
  }
 ],
 "metadata": {
  "kernelspec": {
   "display_name": "Python 3",
   "language": "python",
   "name": "python3"
  },
  "language_info": {
   "codemirror_mode": {
    "name": "ipython",
    "version": 3
   },
   "file_extension": ".py",
   "mimetype": "text/x-python",
   "name": "python",
   "nbconvert_exporter": "python",
   "pygments_lexer": "ipython3",
   "version": "3.7.4"
  }
 },
 "nbformat": 4,
 "nbformat_minor": 2
}
