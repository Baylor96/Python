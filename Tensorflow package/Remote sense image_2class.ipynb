{
 "cells": [
  {
   "cell_type": "code",
   "execution_count": 1,
   "metadata": {
    "collapsed": true
   },
   "outputs": [],
   "source": [
    "import tensorflow as tf\n",
    "import numpy as np\n",
    "import pathlib\n",
    "import random\n",
    "import matplotlib.pyplot as plt\n",
    "%matplotlib inline"
   ]
  },
  {
   "cell_type": "code",
   "execution_count": 2,
   "metadata": {
    "collapsed": true
   },
   "outputs": [],
   "source": [
    "data_dir = 'D:\\ljy\\lasif data\\satellite_image'"
   ]
  },
  {
   "cell_type": "code",
   "execution_count": 3,
   "metadata": {
    "collapsed": true
   },
   "outputs": [],
   "source": [
    "data_root = pathlib.Path(data_dir)"
   ]
  },
  {
   "cell_type": "code",
   "execution_count": 4,
   "metadata": {},
   "outputs": [
    {
     "data": {
      "text/plain": [
       "WindowsPath('D:/ljy/lasif data/satellite_image')"
      ]
     },
     "execution_count": 4,
     "metadata": {},
     "output_type": "execute_result"
    }
   ],
   "source": [
    "data_root"
   ]
  },
  {
   "cell_type": "code",
   "execution_count": 5,
   "metadata": {},
   "outputs": [
    {
     "name": "stdout",
     "output_type": "stream",
     "text": [
      "D:\\ljy\\lasif data\\satellite_image\\airplane\n",
      "D:\\ljy\\lasif data\\satellite_image\\lake\n"
     ]
    }
   ],
   "source": [
    "for item in data_root.iterdir():\n",
    "    print(item)"
   ]
  },
  {
   "cell_type": "code",
   "execution_count": 6,
   "metadata": {
    "collapsed": true
   },
   "outputs": [],
   "source": [
    "all_image_path = list(data_root.glob('*/*'))"
   ]
  },
  {
   "cell_type": "code",
   "execution_count": 7,
   "metadata": {},
   "outputs": [
    {
     "data": {
      "text/plain": [
       "[WindowsPath('D:/ljy/lasif data/satellite_image/airplane/airplane_001.jpg'),\n",
       " WindowsPath('D:/ljy/lasif data/satellite_image/airplane/airplane_002.jpg'),\n",
       " WindowsPath('D:/ljy/lasif data/satellite_image/airplane/airplane_003.jpg')]"
      ]
     },
     "execution_count": 7,
     "metadata": {},
     "output_type": "execute_result"
    }
   ],
   "source": [
    "all_image_path[:3]"
   ]
  },
  {
   "cell_type": "code",
   "execution_count": 8,
   "metadata": {},
   "outputs": [],
   "source": [
    "all_image_path = [str(i) for i in all_image_path]"
   ]
  },
  {
   "cell_type": "code",
   "execution_count": 9,
   "metadata": {},
   "outputs": [
    {
     "data": {
      "text/plain": [
       "['D:\\\\ljy\\\\lasif data\\\\satellite_image\\\\airplane\\\\airplane_001.jpg',\n",
       " 'D:\\\\ljy\\\\lasif data\\\\satellite_image\\\\airplane\\\\airplane_002.jpg',\n",
       " 'D:\\\\ljy\\\\lasif data\\\\satellite_image\\\\airplane\\\\airplane_003.jpg']"
      ]
     },
     "execution_count": 9,
     "metadata": {},
     "output_type": "execute_result"
    }
   ],
   "source": [
    "all_image_path[:3]"
   ]
  },
  {
   "cell_type": "code",
   "execution_count": 10,
   "metadata": {
    "collapsed": true
   },
   "outputs": [],
   "source": [
    "random.shuffle(all_image_path)"
   ]
  },
  {
   "cell_type": "code",
   "execution_count": 11,
   "metadata": {},
   "outputs": [
    {
     "data": {
      "text/plain": [
       "['D:\\\\ljy\\\\lasif data\\\\satellite_image\\\\airplane\\\\airplane_320.jpg',\n",
       " 'D:\\\\ljy\\\\lasif data\\\\satellite_image\\\\airplane\\\\airplane_426.jpg',\n",
       " 'D:\\\\ljy\\\\lasif data\\\\satellite_image\\\\airplane\\\\airplane_429.jpg']"
      ]
     },
     "execution_count": 11,
     "metadata": {},
     "output_type": "execute_result"
    }
   ],
   "source": [
    "all_image_path[:3]"
   ]
  },
  {
   "cell_type": "code",
   "execution_count": 12,
   "metadata": {},
   "outputs": [
    {
     "data": {
      "text/plain": [
       "1400"
      ]
     },
     "execution_count": 12,
     "metadata": {},
     "output_type": "execute_result"
    }
   ],
   "source": [
    "image_count = len(all_image_path)\n",
    "image_count"
   ]
  },
  {
   "cell_type": "code",
   "execution_count": 13,
   "metadata": {},
   "outputs": [
    {
     "data": {
      "text/plain": [
       "['airplane', 'lake']"
      ]
     },
     "execution_count": 13,
     "metadata": {},
     "output_type": "execute_result"
    }
   ],
   "source": [
    "label_name = sorted(item.name for item in data_root.glob('*/'))\n",
    "label_name"
   ]
  },
  {
   "cell_type": "code",
   "execution_count": 14,
   "metadata": {},
   "outputs": [
    {
     "data": {
      "text/plain": [
       "{'airplane': 0, 'lake': 1}"
      ]
     },
     "execution_count": 14,
     "metadata": {},
     "output_type": "execute_result"
    }
   ],
   "source": [
    "label2index = dict((name, index) for index, name in enumerate(label_name))\n",
    "label2index"
   ]
  },
  {
   "cell_type": "code",
   "execution_count": 15,
   "metadata": {},
   "outputs": [
    {
     "data": {
      "text/plain": [
       "{0: 'airplane', 1: 'lake'}"
      ]
     },
     "execution_count": 15,
     "metadata": {},
     "output_type": "execute_result"
    }
   ],
   "source": [
    "index2label = dict((v,k) for k,v in label2index.items())\n",
    "index2label"
   ]
  },
  {
   "cell_type": "code",
   "execution_count": 16,
   "metadata": {},
   "outputs": [],
   "source": [
    "all_image_label = [label2index[pathlib.Path(path).parent.name] for path in all_image_path]"
   ]
  },
  {
   "cell_type": "code",
   "execution_count": 17,
   "metadata": {},
   "outputs": [
    {
     "data": {
      "text/plain": [
       "[0, 0, 0]"
      ]
     },
     "execution_count": 17,
     "metadata": {},
     "output_type": "execute_result"
    }
   ],
   "source": [
    "all_image_label[:3]"
   ]
  },
  {
   "cell_type": "code",
   "execution_count": 18,
   "metadata": {},
   "outputs": [
    {
     "data": {
      "text/plain": [
       "['D:\\\\ljy\\\\lasif data\\\\satellite_image\\\\airplane\\\\airplane_320.jpg',\n",
       " 'D:\\\\ljy\\\\lasif data\\\\satellite_image\\\\airplane\\\\airplane_426.jpg',\n",
       " 'D:\\\\ljy\\\\lasif data\\\\satellite_image\\\\airplane\\\\airplane_429.jpg']"
      ]
     },
     "execution_count": 18,
     "metadata": {},
     "output_type": "execute_result"
    }
   ],
   "source": [
    "all_image_path[:3]"
   ]
  },
  {
   "cell_type": "code",
   "execution_count": 19,
   "metadata": {
    "collapsed": true
   },
   "outputs": [],
   "source": [
    "import IPython.display as display"
   ]
  },
  {
   "cell_type": "code",
   "execution_count": 20,
   "metadata": {},
   "outputs": [
    {
     "data": {
      "image/jpeg": "[encoded data removed]",
      "text/plain": [
       "<IPython.core.display.Image object>"
      ]
     },
     "metadata": {},
     "output_type": "display_data"
    },
    {
     "name": "stdout",
     "output_type": "stream",
     "text": [
      "airplane\n",
      "D:\\ljy\\lasif data\\satellite_image\\airplane\\airplane_567.jpg\n"
     ]
    },
    {
     "data": {
      "image/jpeg": "[encoded data removed]",
      "text/plain": [
       "<IPython.core.display.Image object>"
      ]
     },
     "metadata": {},
     "output_type": "display_data"
    },
    {
     "name": "stdout",
     "output_type": "stream",
     "text": [
      "airplane\n",
      "D:\\ljy\\lasif data\\satellite_image\\airplane\\airplane_157.jpg\n"
     ]
    },
    {
     "data": {
      "image/jpeg": "[encoded data removed]",
      "text/plain": [
       "<IPython.core.display.Image object>"
      ]
     },
     "metadata": {},
     "output_type": "display_data"
    },
    {
     "name": "stdout",
     "output_type": "stream",
     "text": [
      "airplane\n",
      "D:\\ljy\\lasif data\\satellite_image\\airplane\\airplane_326.jpg\n"
     ]
    }
   ],
   "source": [
    "for n in range(3):\n",
    "    image_index = random.choice(range(len(all_image_path)))\n",
    "    display.display(display.Image(all_image_path[image_index]))\n",
    "    print(index2label[all_image_label[image_index]])\n",
    "    print(all_image_path[image_index])"
   ]
  },
  {
   "cell_type": "code",
   "execution_count": 21,
   "metadata": {
    "collapsed": true
   },
   "outputs": [],
   "source": [
    "def load_perprocess_image(img_path):\n",
    "    img_raw = tf.io.read_file(img_path)\n",
    "    img_tensor = tf.image.decode_jpeg(img_raw, channels=3)\n",
    "    img_tensor = tf.image.resize(img_tensor, [256, 256])\n",
    "    img = tf.cast(img_tensor, tf.float32) / 255\n",
    "    return img"
   ]
  },
  {
   "cell_type": "code",
   "execution_count": 22,
   "metadata": {},
   "outputs": [
    {
     "data": {
      "text/plain": [
       "<matplotlib.image.AxesImage at 0x1df1a009eb8>"
      ]
     },
     "execution_count": 22,
     "metadata": {},
     "output_type": "execute_result"
    },
    {
     "data": {
      "image/png": "[encoded data removed]",
      "text/plain": [
       "<Figure size 432x288 with 1 Axes>"
      ]
     },
     "metadata": {},
     "output_type": "display_data"
    }
   ],
   "source": [
    "plt.imshow(load_perprocess_image(all_image_path[0]))"
   ]
  },
  {
   "cell_type": "code",
   "execution_count": 23,
   "metadata": {
    "collapsed": true
   },
   "outputs": [],
   "source": [
    "path_ds = tf.data.Dataset.from_tensor_slices(all_image_path)"
   ]
  },
  {
   "cell_type": "code",
   "execution_count": 24,
   "metadata": {},
   "outputs": [
    {
     "data": {
      "text/plain": [
       "<TensorSliceDataset shapes: (), types: tf.string>"
      ]
     },
     "execution_count": 24,
     "metadata": {},
     "output_type": "execute_result"
    }
   ],
   "source": [
    "path_ds"
   ]
  },
  {
   "cell_type": "code",
   "execution_count": 25,
   "metadata": {
    "collapsed": true
   },
   "outputs": [],
   "source": [
    "image_dataset = path_ds.map(load_perprocess_image)"
   ]
  },
  {
   "cell_type": "code",
   "execution_count": 26,
   "metadata": {},
   "outputs": [
    {
     "data": {
      "text/plain": [
       "<MapDataset shapes: (256, 256, 3), types: tf.float32>"
      ]
     },
     "execution_count": 26,
     "metadata": {},
     "output_type": "execute_result"
    }
   ],
   "source": [
    "image_dataset"
   ]
  },
  {
   "cell_type": "code",
   "execution_count": 27,
   "metadata": {
    "collapsed": true
   },
   "outputs": [],
   "source": [
    "label_dataset = tf.data.Dataset.from_tensor_slices(all_image_label)"
   ]
  },
  {
   "cell_type": "code",
   "execution_count": 29,
   "metadata": {},
   "outputs": [
    {
     "name": "stdout",
     "output_type": "stream",
     "text": [
      "0\n",
      "0\n",
      "0\n",
      "0\n",
      "0\n",
      "0\n",
      "0\n",
      "0\n",
      "0\n",
      "1\n"
     ]
    }
   ],
   "source": [
    "for label in label_dataset.take(10):\n",
    "    print(label.numpy())"
   ]
  },
  {
   "cell_type": "code",
   "execution_count": 32,
   "metadata": {},
   "outputs": [],
   "source": [
    "dataset = tf.data.Dataset.zip((image_dataset, label_dataset))"
   ]
  },
  {
   "cell_type": "code",
   "execution_count": 33,
   "metadata": {},
   "outputs": [
    {
     "data": {
      "text/plain": [
       "<ZipDataset shapes: ((256, 256, 3), ()), types: (tf.float32, tf.int32)>"
      ]
     },
     "execution_count": 33,
     "metadata": {},
     "output_type": "execute_result"
    }
   ],
   "source": [
    "dataset"
   ]
  },
  {
   "cell_type": "code",
   "execution_count": 39,
   "metadata": {},
   "outputs": [
    {
     "name": "stdout",
     "output_type": "stream",
     "text": [
      "(<tf.Tensor: id=116, shape=(256, 256, 3), dtype=float32, numpy=\n",
      "array([[[0.60784316, 0.5647059 , 0.54901963],\n",
      "        [0.56078434, 0.5176471 , 0.5019608 ],\n",
      "        [0.49411765, 0.45882353, 0.4392157 ],\n",
      "        ...,\n",
      "        [0.62352943, 0.6117647 , 0.5921569 ],\n",
      "        [0.627451  , 0.6156863 , 0.59607846],\n",
      "        [0.627451  , 0.6156863 , 0.59607846]],\n",
      "\n",
      "       [[0.57254905, 0.5294118 , 0.5137255 ],\n",
      "        [0.5411765 , 0.49803922, 0.48235294],\n",
      "        [0.49803922, 0.4627451 , 0.44313726],\n",
      "        ...,\n",
      "        [0.6313726 , 0.61960787, 0.6       ],\n",
      "        [0.61960787, 0.60784316, 0.5882353 ],\n",
      "        [0.6156863 , 0.6039216 , 0.58431375]],\n",
      "\n",
      "       [[0.58431375, 0.5411765 , 0.5254902 ],\n",
      "        [0.5764706 , 0.53333336, 0.5176471 ],\n",
      "        [0.5568628 , 0.52156866, 0.5019608 ],\n",
      "        ...,\n",
      "        [0.627451  , 0.6156863 , 0.59607846],\n",
      "        [0.62352943, 0.6117647 , 0.5921569 ],\n",
      "        [0.6313726 , 0.61960787, 0.6       ]],\n",
      "\n",
      "       ...,\n",
      "\n",
      "       [[0.65882355, 0.654902  , 0.63529414],\n",
      "        [0.6509804 , 0.654902  , 0.6313726 ],\n",
      "        [0.654902  , 0.6509804 , 0.6313726 ],\n",
      "        ...,\n",
      "        [0.35686275, 0.34509805, 0.27058825],\n",
      "        [0.34509805, 0.33333334, 0.25882354],\n",
      "        [0.3137255 , 0.3019608 , 0.22745098]],\n",
      "\n",
      "       [[0.65882355, 0.64705884, 0.627451  ],\n",
      "        [0.654902  , 0.6509804 , 0.6313726 ],\n",
      "        [0.6666667 , 0.654902  , 0.63529414],\n",
      "        ...,\n",
      "        [0.41568628, 0.40392157, 0.32941177],\n",
      "        [0.3372549 , 0.3254902 , 0.2509804 ],\n",
      "        [0.1764706 , 0.16470589, 0.09019608]],\n",
      "\n",
      "       [[0.6666667 , 0.654902  , 0.63529414],\n",
      "        [0.67058825, 0.65882355, 0.6392157 ],\n",
      "        [0.6745098 , 0.6627451 , 0.6431373 ],\n",
      "        ...,\n",
      "        [0.3529412 , 0.34117648, 0.26666668],\n",
      "        [0.32156864, 0.30980393, 0.23529412],\n",
      "        [0.3529412 , 0.34117648, 0.26666668]]], dtype=float32)>, <tf.Tensor: id=117, shape=(), dtype=int32, numpy=0>)\n",
      "(<tf.Tensor: id=118, shape=(256, 256, 3), dtype=float32, numpy=\n",
      "array([[[0.5921569 , 0.5764706 , 0.57254905],\n",
      "        [0.59607846, 0.5803922 , 0.5764706 ],\n",
      "        [0.6039216 , 0.5882353 , 0.58431375],\n",
      "        ...,\n",
      "        [0.29411766, 0.34901962, 0.3529412 ],\n",
      "        [0.2901961 , 0.34509805, 0.35686275],\n",
      "        [0.29803923, 0.35686275, 0.36862746]],\n",
      "\n",
      "       [[0.59607846, 0.5803922 , 0.5764706 ],\n",
      "        [0.6       , 0.58431375, 0.5803922 ],\n",
      "        [0.6117647 , 0.59607846, 0.5921569 ],\n",
      "        ...,\n",
      "        [0.29411766, 0.34901962, 0.3529412 ],\n",
      "        [0.28627452, 0.34117648, 0.3529412 ],\n",
      "        [0.29803923, 0.35686275, 0.36862746]],\n",
      "\n",
      "       [[0.6039216 , 0.5882353 , 0.58431375],\n",
      "        [0.60784316, 0.5921569 , 0.5882353 ],\n",
      "        [0.6156863 , 0.6       , 0.59607846],\n",
      "        ...,\n",
      "        [0.29411766, 0.34901962, 0.3529412 ],\n",
      "        [0.2901961 , 0.34509805, 0.35686275],\n",
      "        [0.3019608 , 0.36078432, 0.37254903]],\n",
      "\n",
      "       ...,\n",
      "\n",
      "       [[0.70980394, 0.6901961 , 0.6745098 ],\n",
      "        [0.70980394, 0.6901961 , 0.6745098 ],\n",
      "        [0.70980394, 0.6901961 , 0.6745098 ],\n",
      "        ...,\n",
      "        [0.3529412 , 0.40784314, 0.41960785],\n",
      "        [0.38431373, 0.42745098, 0.44313726],\n",
      "        [0.4       , 0.44313726, 0.45882353]],\n",
      "\n",
      "       [[0.7058824 , 0.6862745 , 0.67058825],\n",
      "        [0.7058824 , 0.6862745 , 0.67058825],\n",
      "        [0.7058824 , 0.6862745 , 0.67058825],\n",
      "        ...,\n",
      "        [0.34509805, 0.4       , 0.4117647 ],\n",
      "        [0.37254903, 0.41568628, 0.43137255],\n",
      "        [0.38431373, 0.42745098, 0.44313726]],\n",
      "\n",
      "       [[0.7019608 , 0.68235296, 0.6666667 ],\n",
      "        [0.7019608 , 0.68235296, 0.6666667 ],\n",
      "        [0.7019608 , 0.68235296, 0.6666667 ],\n",
      "        ...,\n",
      "        [0.3372549 , 0.39215687, 0.40392157],\n",
      "        [0.36862746, 0.4117647 , 0.42745098],\n",
      "        [0.3764706 , 0.41960785, 0.43529412]]], dtype=float32)>, <tf.Tensor: id=119, shape=(), dtype=int32, numpy=0>)\n",
      "(<tf.Tensor: id=120, shape=(256, 256, 3), dtype=float32, numpy=\n",
      "array([[[0.4745098 , 0.44705883, 0.40784314],\n",
      "        [0.49803922, 0.47058824, 0.43137255],\n",
      "        [0.53333336, 0.5058824 , 0.46666667],\n",
      "        ...,\n",
      "        [0.45882353, 0.4       , 0.3882353 ],\n",
      "        [0.47058824, 0.4117647 , 0.4       ],\n",
      "        [0.4745098 , 0.41568628, 0.40392157]],\n",
      "\n",
      "       [[0.4745098 , 0.44705883, 0.40784314],\n",
      "        [0.50980395, 0.48235294, 0.44313726],\n",
      "        [0.56078434, 0.53333336, 0.49411765],\n",
      "        ...,\n",
      "        [0.43529412, 0.3764706 , 0.3647059 ],\n",
      "        [0.44313726, 0.38431373, 0.37254903],\n",
      "        [0.4509804 , 0.39215687, 0.38039216]],\n",
      "\n",
      "       [[0.4862745 , 0.45882353, 0.41960785],\n",
      "        [0.5372549 , 0.50980395, 0.47058824],\n",
      "        [0.5921569 , 0.5647059 , 0.5254902 ],\n",
      "        ...,\n",
      "        [0.41568628, 0.35686275, 0.34509805],\n",
      "        [0.42352942, 0.3647059 , 0.3529412 ],\n",
      "        [0.42745098, 0.36862746, 0.35686275]],\n",
      "\n",
      "       ...,\n",
      "\n",
      "       [[0.49019608, 0.47843137, 0.45882353],\n",
      "        [0.49019608, 0.47843137, 0.45882353],\n",
      "        [0.49411765, 0.48235294, 0.4627451 ],\n",
      "        ...,\n",
      "        [0.32156864, 0.2784314 , 0.2627451 ],\n",
      "        [0.32156864, 0.2784314 , 0.2627451 ],\n",
      "        [0.32156864, 0.2784314 , 0.2627451 ]],\n",
      "\n",
      "       [[0.49411765, 0.48235294, 0.4627451 ],\n",
      "        [0.49019608, 0.47843137, 0.45882353],\n",
      "        [0.49411765, 0.48235294, 0.4627451 ],\n",
      "        ...,\n",
      "        [0.31764707, 0.27450982, 0.25882354],\n",
      "        [0.31764707, 0.27450982, 0.25882354],\n",
      "        [0.31764707, 0.27450982, 0.25882354]],\n",
      "\n",
      "       [[0.49411765, 0.48235294, 0.4627451 ],\n",
      "        [0.49411765, 0.48235294, 0.4627451 ],\n",
      "        [0.49411765, 0.48235294, 0.4627451 ],\n",
      "        ...,\n",
      "        [0.3137255 , 0.27058825, 0.25490198],\n",
      "        [0.31764707, 0.27450982, 0.25882354],\n",
      "        [0.31764707, 0.27450982, 0.25882354]]], dtype=float32)>, <tf.Tensor: id=121, shape=(), dtype=int32, numpy=0>)\n",
      "(<tf.Tensor: id=122, shape=(256, 256, 3), dtype=float32, numpy=\n",
      "array([[[0.7529412 , 0.7254902 , 0.654902  ],\n",
      "        [0.7411765 , 0.7137255 , 0.6431373 ],\n",
      "        [0.68235296, 0.654902  , 0.58431375],\n",
      "        ...,\n",
      "        [0.6       , 0.54509807, 0.5411765 ],\n",
      "        [0.6       , 0.54509807, 0.5411765 ],\n",
      "        [0.58431375, 0.5294118 , 0.5254902 ]],\n",
      "\n",
      "       [[0.74509805, 0.7176471 , 0.64705884],\n",
      "        [0.7647059 , 0.7372549 , 0.6666667 ],\n",
      "        [0.7019608 , 0.6745098 , 0.6039216 ],\n",
      "        ...,\n",
      "        [0.6039216 , 0.54901963, 0.54509807],\n",
      "        [0.5921569 , 0.5372549 , 0.53333336],\n",
      "        [0.59607846, 0.5411765 , 0.5372549 ]],\n",
      "\n",
      "       [[0.74509805, 0.7176471 , 0.64705884],\n",
      "        [0.77254903, 0.74509805, 0.6745098 ],\n",
      "        [0.69411767, 0.6666667 , 0.59607846],\n",
      "        ...,\n",
      "        [0.59607846, 0.5411765 , 0.5372549 ],\n",
      "        [0.56078434, 0.5058824 , 0.5019608 ],\n",
      "        [0.5803922 , 0.5254902 , 0.52156866]],\n",
      "\n",
      "       ...,\n",
      "\n",
      "       [[0.67058825, 0.63529414, 0.6       ],\n",
      "        [0.67058825, 0.63529414, 0.6       ],\n",
      "        [0.67058825, 0.63529414, 0.6       ],\n",
      "        ...,\n",
      "        [0.15294118, 0.15294118, 0.12156863],\n",
      "        [0.20784314, 0.21176471, 0.18039216],\n",
      "        [0.18039216, 0.18431373, 0.15294118]],\n",
      "\n",
      "       [[0.65882355, 0.62352943, 0.5882353 ],\n",
      "        [0.654902  , 0.61960787, 0.58431375],\n",
      "        [0.65882355, 0.62352943, 0.5882353 ],\n",
      "        ...,\n",
      "        [0.49803922, 0.5019608 , 0.47058824],\n",
      "        [0.4       , 0.40392157, 0.37254903],\n",
      "        [0.16470589, 0.16862746, 0.13725491]],\n",
      "\n",
      "       [[0.6509804 , 0.6156863 , 0.5803922 ],\n",
      "        [0.64705884, 0.6117647 , 0.5764706 ],\n",
      "        [0.6509804 , 0.6156863 , 0.5803922 ],\n",
      "        ...,\n",
      "        [0.5882353 , 0.5921569 , 0.56078434],\n",
      "        [0.23921569, 0.24313726, 0.21176471],\n",
      "        [0.12941177, 0.13333334, 0.10196079]]], dtype=float32)>, <tf.Tensor: id=123, shape=(), dtype=int32, numpy=0>)\n",
      "(<tf.Tensor: id=124, shape=(256, 256, 3), dtype=float32, numpy=\n",
      "array([[[0.5529412 , 0.5803922 , 0.54901963],\n",
      "        [0.5882353 , 0.6156863 , 0.58431375],\n",
      "        [0.6862745 , 0.70980394, 0.67058825],\n",
      "        ...,\n",
      "        [0.654902  , 0.6431373 , 0.60784316],\n",
      "        [0.6431373 , 0.6313726 , 0.59607846],\n",
      "        [0.63529414, 0.62352943, 0.5882353 ]],\n",
      "\n",
      "       [[0.5921569 , 0.61960787, 0.5882353 ],\n",
      "        [0.7137255 , 0.7411765 , 0.70980394],\n",
      "        [0.81960785, 0.84313726, 0.8039216 ],\n",
      "        ...,\n",
      "        [0.64705884, 0.63529414, 0.6       ],\n",
      "        [0.6392157 , 0.627451  , 0.5921569 ],\n",
      "        [0.627451  , 0.6156863 , 0.5803922 ]],\n",
      "\n",
      "       [[0.6431373 , 0.67058825, 0.6392157 ],\n",
      "        [0.77254903, 0.8       , 0.76862746],\n",
      "        [0.8117647 , 0.8352941 , 0.79607844],\n",
      "        ...,\n",
      "        [0.63529414, 0.62352943, 0.5882353 ],\n",
      "        [0.6313726 , 0.61960787, 0.58431375],\n",
      "        [0.62352943, 0.6117647 , 0.5764706 ]],\n",
      "\n",
      "       ...,\n",
      "\n",
      "       [[0.5803922 , 0.5882353 , 0.54509807],\n",
      "        [0.6       , 0.60784316, 0.5647059 ],\n",
      "        [0.56078434, 0.54901963, 0.5137255 ],\n",
      "        ...,\n",
      "        [0.50980395, 0.48235294, 0.44313726],\n",
      "        [0.5176471 , 0.49019608, 0.4509804 ],\n",
      "        [0.52156866, 0.49411765, 0.45490196]],\n",
      "\n",
      "       [[0.5764706 , 0.58431375, 0.5411765 ],\n",
      "        [0.59607846, 0.6039216 , 0.56078434],\n",
      "        [0.5529412 , 0.5411765 , 0.5058824 ],\n",
      "        ...,\n",
      "        [0.5294118 , 0.5019608 , 0.4627451 ],\n",
      "        [0.5411765 , 0.5137255 , 0.4745098 ],\n",
      "        [0.54509807, 0.5176471 , 0.47843137]],\n",
      "\n",
      "       [[0.5764706 , 0.58431375, 0.5411765 ],\n",
      "        [0.5921569 , 0.6       , 0.5568628 ],\n",
      "        [0.54901963, 0.5372549 , 0.5019608 ],\n",
      "        ...,\n",
      "        [0.5137255 , 0.4862745 , 0.44705883],\n",
      "        [0.53333336, 0.5058824 , 0.46666667],\n",
      "        [0.5372549 , 0.50980395, 0.47058824]]], dtype=float32)>, <tf.Tensor: id=125, shape=(), dtype=int32, numpy=0>)\n",
      "(<tf.Tensor: id=126, shape=(256, 256, 3), dtype=float32, numpy=\n",
      "array([[[0.39215687, 0.41568628, 0.3764706 ],\n",
      "        [0.39607844, 0.41960785, 0.38039216],\n",
      "        [0.4       , 0.42352942, 0.38431373],\n",
      "        ...,\n",
      "        [0.42745098, 0.44705883, 0.42352942],\n",
      "        [0.42745098, 0.44705883, 0.42352942],\n",
      "        [0.41960785, 0.4392157 , 0.41568628]],\n",
      "\n",
      "       [[0.39215687, 0.41568628, 0.3764706 ],\n",
      "        [0.39607844, 0.41960785, 0.38039216],\n",
      "        [0.4       , 0.42352942, 0.38431373],\n",
      "        ...,\n",
      "        [0.43137255, 0.4509804 , 0.42745098],\n",
      "        [0.43137255, 0.4509804 , 0.42745098],\n",
      "        [0.42352942, 0.44313726, 0.41960785]],\n",
      "\n",
      "       [[0.39607844, 0.41960785, 0.38039216],\n",
      "        [0.39607844, 0.41960785, 0.38039216],\n",
      "        [0.4       , 0.42352942, 0.38431373],\n",
      "        ...,\n",
      "        [0.39215687, 0.41960785, 0.39215687],\n",
      "        [0.39607844, 0.42352942, 0.39607844],\n",
      "        [0.3882353 , 0.41568628, 0.3882353 ]],\n",
      "\n",
      "       ...,\n",
      "\n",
      "       [[0.65882355, 0.6901961 , 0.6392157 ],\n",
      "        [0.65882355, 0.6901961 , 0.6392157 ],\n",
      "        [0.6627451 , 0.69411767, 0.6431373 ],\n",
      "        ...,\n",
      "        [0.6862745 , 0.72156864, 0.654902  ],\n",
      "        [0.654902  , 0.6901961 , 0.62352943],\n",
      "        [0.61960787, 0.654902  , 0.5882353 ]],\n",
      "\n",
      "       [[0.6627451 , 0.69411767, 0.6509804 ],\n",
      "        [0.65882355, 0.6901961 , 0.64705884],\n",
      "        [0.6509804 , 0.68235296, 0.6392157 ],\n",
      "        ...,\n",
      "        [0.68235296, 0.7176471 , 0.6509804 ],\n",
      "        [0.6862745 , 0.72156864, 0.654902  ],\n",
      "        [0.6039216 , 0.6392157 , 0.57254905]],\n",
      "\n",
      "       [[0.627451  , 0.65882355, 0.6156863 ],\n",
      "        [0.61960787, 0.6509804 , 0.60784316],\n",
      "        [0.6039216 , 0.63529414, 0.5921569 ],\n",
      "        ...,\n",
      "        [0.6901961 , 0.7254902 , 0.65882355],\n",
      "        [0.7254902 , 0.7607843 , 0.69411767],\n",
      "        [0.6156863 , 0.6509804 , 0.58431375]]], dtype=float32)>, <tf.Tensor: id=127, shape=(), dtype=int32, numpy=0>)\n",
      "(<tf.Tensor: id=128, shape=(256, 256, 3), dtype=float32, numpy=\n",
      "array([[[0.6156863 , 0.62352943, 0.5803922 ],\n",
      "        [0.54901963, 0.5568628 , 0.5137255 ],\n",
      "        [0.4862745 , 0.49411765, 0.4509804 ],\n",
      "        ...,\n",
      "        [0.70980394, 0.7058824 , 0.6862745 ],\n",
      "        [0.7058824 , 0.7019608 , 0.68235296],\n",
      "        [0.7058824 , 0.7019608 , 0.68235296]],\n",
      "\n",
      "       [[0.5254902 , 0.53333336, 0.49019608],\n",
      "        [0.48235294, 0.49019608, 0.44705883],\n",
      "        [0.44705883, 0.45490196, 0.4117647 ],\n",
      "        ...,\n",
      "        [0.7176471 , 0.7137255 , 0.69411767],\n",
      "        [0.7176471 , 0.7137255 , 0.69411767],\n",
      "        [0.72156864, 0.7176471 , 0.69803923]],\n",
      "\n",
      "       [[0.4392157 , 0.44705883, 0.40392157],\n",
      "        [0.41960785, 0.42745098, 0.38431373],\n",
      "        [0.41568628, 0.41960785, 0.3882353 ],\n",
      "        ...,\n",
      "        [0.7058824 , 0.69411767, 0.6666667 ],\n",
      "        [0.7137255 , 0.7019608 , 0.6745098 ],\n",
      "        [0.72156864, 0.70980394, 0.68235296]],\n",
      "\n",
      "       ...,\n",
      "\n",
      "       [[0.75686276, 0.7607843 , 0.7294118 ],\n",
      "        [0.7529412 , 0.75686276, 0.7254902 ],\n",
      "        [0.7529412 , 0.75686276, 0.7254902 ],\n",
      "        ...,\n",
      "        [0.64705884, 0.63529414, 0.6       ],\n",
      "        [0.654902  , 0.6431373 , 0.60784316],\n",
      "        [0.65882355, 0.64705884, 0.6117647 ]],\n",
      "\n",
      "       [[0.7490196 , 0.7529412 , 0.72156864],\n",
      "        [0.7490196 , 0.7529412 , 0.72156864],\n",
      "        [0.7529412 , 0.75686276, 0.7254902 ],\n",
      "        ...,\n",
      "        [0.6745098 , 0.6627451 , 0.627451  ],\n",
      "        [0.67058825, 0.65882355, 0.62352943],\n",
      "        [0.65882355, 0.64705884, 0.6117647 ]],\n",
      "\n",
      "       [[0.74509805, 0.7490196 , 0.7176471 ],\n",
      "        [0.7490196 , 0.7529412 , 0.72156864],\n",
      "        [0.7529412 , 0.75686276, 0.7254902 ],\n",
      "        ...,\n",
      "        [0.69411767, 0.68235296, 0.64705884],\n",
      "        [0.68235296, 0.67058825, 0.63529414],\n",
      "        [0.65882355, 0.64705884, 0.6117647 ]]], dtype=float32)>, <tf.Tensor: id=129, shape=(), dtype=int32, numpy=0>)\n",
      "(<tf.Tensor: id=130, shape=(256, 256, 3), dtype=float32, numpy=\n",
      "array([[[0.3647059 , 0.37254903, 0.32941177],\n",
      "        [0.36078432, 0.36862746, 0.3254902 ],\n",
      "        [0.32156864, 0.32941177, 0.2784314 ],\n",
      "        ...,\n",
      "        [0.49803922, 0.49803922, 0.45882353],\n",
      "        [0.67058825, 0.67058825, 0.6313726 ],\n",
      "        [0.6627451 , 0.6627451 , 0.62352943]],\n",
      "\n",
      "       [[0.39215687, 0.4       , 0.35686275],\n",
      "        [0.38039216, 0.3882353 , 0.34509805],\n",
      "        [0.34117648, 0.34901962, 0.29803923],\n",
      "        ...,\n",
      "        [0.49803922, 0.49803922, 0.45882353],\n",
      "        [0.65882355, 0.65882355, 0.61960787],\n",
      "        [0.6156863 , 0.6156863 , 0.5764706 ]],\n",
      "\n",
      "       [[0.38039216, 0.3882353 , 0.34509805],\n",
      "        [0.36078432, 0.36862746, 0.3254902 ],\n",
      "        [0.3372549 , 0.34509805, 0.29411766],\n",
      "        ...,\n",
      "        [0.62352943, 0.62352943, 0.58431375],\n",
      "        [0.62352943, 0.62352943, 0.58431375],\n",
      "        [0.62352943, 0.62352943, 0.58431375]],\n",
      "\n",
      "       ...,\n",
      "\n",
      "       [[0.42745098, 0.4       , 0.36078432],\n",
      "        [0.44313726, 0.41568628, 0.3764706 ],\n",
      "        [0.44705883, 0.41960785, 0.38039216],\n",
      "        ...,\n",
      "        [0.60784316, 0.62352943, 0.5568628 ],\n",
      "        [0.61960787, 0.63529414, 0.5686275 ],\n",
      "        [0.627451  , 0.6431373 , 0.5764706 ]],\n",
      "\n",
      "       [[0.42352942, 0.39607844, 0.35686275],\n",
      "        [0.44313726, 0.41568628, 0.3764706 ],\n",
      "        [0.4509804 , 0.42352942, 0.38431373],\n",
      "        ...,\n",
      "        [0.61960787, 0.64705884, 0.5764706 ],\n",
      "        [0.63529414, 0.6627451 , 0.5921569 ],\n",
      "        [0.63529414, 0.6627451 , 0.5921569 ]],\n",
      "\n",
      "       [[0.42352942, 0.39607844, 0.35686275],\n",
      "        [0.44313726, 0.41568628, 0.3764706 ],\n",
      "        [0.4509804 , 0.42352942, 0.38431373],\n",
      "        ...,\n",
      "        [0.61960787, 0.64705884, 0.5764706 ],\n",
      "        [0.59607846, 0.62352943, 0.5529412 ],\n",
      "        [0.5764706 , 0.6039216 , 0.53333336]]], dtype=float32)>, <tf.Tensor: id=131, shape=(), dtype=int32, numpy=0>)\n",
      "(<tf.Tensor: id=132, shape=(256, 256, 3), dtype=float32, numpy=\n",
      "array([[[0.41960785, 0.4392157 , 0.42352942],\n",
      "        [0.41960785, 0.4392157 , 0.42352942],\n",
      "        [0.41568628, 0.43529412, 0.41960785],\n",
      "        ...,\n",
      "        [0.2784314 , 0.30588236, 0.27450982],\n",
      "        [0.27450982, 0.3019608 , 0.27058825],\n",
      "        [0.27058825, 0.29803923, 0.26666668]],\n",
      "\n",
      "       [[0.41960785, 0.4392157 , 0.42352942],\n",
      "        [0.41960785, 0.4392157 , 0.42352942],\n",
      "        [0.41568628, 0.43529412, 0.41960785],\n",
      "        ...,\n",
      "        [0.29411766, 0.32156864, 0.2901961 ],\n",
      "        [0.29411766, 0.32156864, 0.2901961 ],\n",
      "        [0.29411766, 0.32156864, 0.2901961 ]],\n",
      "\n",
      "       [[0.41960785, 0.4392157 , 0.42352942],\n",
      "        [0.41960785, 0.4392157 , 0.42352942],\n",
      "        [0.41568628, 0.43529412, 0.41960785],\n",
      "        ...,\n",
      "        [0.3137255 , 0.34117648, 0.30980393],\n",
      "        [0.3137255 , 0.34117648, 0.30980393],\n",
      "        [0.3137255 , 0.34117648, 0.30980393]],\n",
      "\n",
      "       ...,\n",
      "\n",
      "       [[0.47058824, 0.5764706 , 0.6039216 ],\n",
      "        [0.20784314, 0.3137255 , 0.34117648],\n",
      "        [0.05882353, 0.15686275, 0.1764706 ],\n",
      "        ...,\n",
      "        [0.3882353 , 0.4       , 0.41960785],\n",
      "        [0.38431373, 0.39607844, 0.42352942],\n",
      "        [0.38039216, 0.39215687, 0.41960785]],\n",
      "\n",
      "       [[0.43137255, 0.54509807, 0.5686275 ],\n",
      "        [0.23921569, 0.3529412 , 0.3764706 ],\n",
      "        [0.07058824, 0.1764706 , 0.20392157],\n",
      "        ...,\n",
      "        [0.30588236, 0.31764707, 0.34509805],\n",
      "        [0.29803923, 0.30980393, 0.3372549 ],\n",
      "        [0.2901961 , 0.3019608 , 0.32941177]],\n",
      "\n",
      "       [[0.42352942, 0.5372549 , 0.56078434],\n",
      "        [0.17254902, 0.28627452, 0.30980393],\n",
      "        [0.03921569, 0.14509805, 0.17254902],\n",
      "        ...,\n",
      "        [0.3372549 , 0.34901962, 0.3764706 ],\n",
      "        [0.34117648, 0.3529412 , 0.38039216],\n",
      "        [0.34117648, 0.3529412 , 0.38039216]]], dtype=float32)>, <tf.Tensor: id=133, shape=(), dtype=int32, numpy=0>)\n",
      "(<tf.Tensor: id=134, shape=(256, 256, 3), dtype=float32, numpy=\n",
      "array([[[0.47058824, 0.49803922, 0.43529412],\n",
      "        [0.5019608 , 0.5294118 , 0.46666667],\n",
      "        [0.47058824, 0.49803922, 0.42745098],\n",
      "        ...,\n",
      "        [0.5372549 , 0.54509807, 0.5019608 ],\n",
      "        [0.5529412 , 0.56078434, 0.5176471 ],\n",
      "        [0.5529412 , 0.56078434, 0.5176471 ]],\n",
      "\n",
      "       [[0.21568628, 0.24313726, 0.18039216],\n",
      "        [0.31764707, 0.34509805, 0.28235295],\n",
      "        [0.38039216, 0.40784314, 0.3372549 ],\n",
      "        ...,\n",
      "        [0.54901963, 0.5568628 , 0.5137255 ],\n",
      "        [0.56078434, 0.5686275 , 0.5254902 ],\n",
      "        [0.5529412 , 0.56078434, 0.5176471 ]],\n",
      "\n",
      "       [[0.25882354, 0.27450982, 0.20784314],\n",
      "        [0.32156864, 0.3372549 , 0.27058825],\n",
      "        [0.36862746, 0.38431373, 0.31764707],\n",
      "        ...,\n",
      "        [0.5411765 , 0.54901963, 0.5058824 ],\n",
      "        [0.5411765 , 0.54901963, 0.5058824 ],\n",
      "        [0.5294118 , 0.5372549 , 0.49411765]],\n",
      "\n",
      "       ...,\n",
      "\n",
      "       [[0.5882353 , 0.5882353 , 0.5568628 ],\n",
      "        [0.5882353 , 0.5882353 , 0.5568628 ],\n",
      "        [0.5647059 , 0.5647059 , 0.53333336],\n",
      "        ...,\n",
      "        [0.18431373, 0.3137255 , 0.24705882],\n",
      "        [0.22745098, 0.35686275, 0.2901961 ],\n",
      "        [0.2509804 , 0.38039216, 0.3137255 ]],\n",
      "\n",
      "       [[0.6039216 , 0.6039216 , 0.57254905],\n",
      "        [0.6117647 , 0.6117647 , 0.5803922 ],\n",
      "        [0.6156863 , 0.6156863 , 0.58431375],\n",
      "        ...,\n",
      "        [0.18431373, 0.31764707, 0.2509804 ],\n",
      "        [0.23137255, 0.3647059 , 0.29803923],\n",
      "        [0.21568628, 0.34901962, 0.28235295]],\n",
      "\n",
      "       [[0.6039216 , 0.6039216 , 0.57254905],\n",
      "        [0.6156863 , 0.6156863 , 0.58431375],\n",
      "        [0.654902  , 0.654902  , 0.62352943],\n",
      "        ...,\n",
      "        [0.14117648, 0.27450982, 0.20784314],\n",
      "        [0.21176471, 0.34509805, 0.2784314 ],\n",
      "        [0.2       , 0.33333334, 0.26666668]]], dtype=float32)>, <tf.Tensor: id=135, shape=(), dtype=int32, numpy=1>)\n"
     ]
    }
   ],
   "source": []
  },
  {
   "cell_type": "code",
   "execution_count": null,
   "metadata": {
    "collapsed": true
   },
   "outputs": [],
   "source": []
  }
 ],
 "metadata": {
  "kernelspec": {
   "display_name": "Python 3",
   "language": "python",
   "name": "python3"
  },
  "language_info": {
   "codemirror_mode": {
    "name": "ipython",
    "version": 3
   },
   "file_extension": ".py",
   "mimetype": "text/x-python",
   "name": "python",
   "nbconvert_exporter": "python",
   "pygments_lexer": "ipython3",
   "version": "3.6.2"
  }
 },
 "nbformat": 4,
 "nbformat_minor": 2
}
