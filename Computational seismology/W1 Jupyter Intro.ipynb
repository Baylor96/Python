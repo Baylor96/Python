{
 "cells": [
  {
   "cell_type": "markdown",
   "metadata": {
    "nbpresent": {
     "id": "5d520f9b-b602-4c79-8a60-fe27a18ed013"
    }
   },
   "source": [
    "<div style='background-image: url(\"title01.png\") ; padding: 0px ; background-size: cover ; border-radius: 5px ; height: 200px'>\n",
    "<div style=\"float: right ; margin: 50px ; padding: 20px ; background: rgba(255 , 255 , 255 , 0.7) ; width: 50% ; height: 150px\">\n",
    "<div style=\"position: relative ; top: 50% ; transform: translatey(-50%)\">\n",
    "            <div style=\"font-size: xx-large ; font-weight: 900 ; color: rgba(0 , 0 , 0 , 0.8) ; line-height: 100%\">Computers, Waves, Simulations</div>\n",
    "            <div style=\"font-size: large ; padding-top: 20px ; color: rgba(0 , 0 , 0 , 0.5)\">Jupyter Notebooks Introduction</div>\n",
    "        </div>\n",
    "    </div>\n",
    "</div>"
   ]
  },
  {
   "cell_type": "markdown",
   "metadata": {
    "nbpresent": {
     "id": "ef866370-5d28-4549-a6f8-e41bee86acdf"
    }
   },
   "source": [
    "#### This exercise covers the following aspects:\n",
    "\n",
    "* How to operate Jupyter notebooks\n",
    "* How to save your work\n",
    "* How to start new cells\n",
    "* How to format cells\n",
    "* How to get help"
   ]
  },
  {
   "cell_type": "markdown",
   "metadata": {
    "code_folding": [],
    "nbpresent": {
     "id": "218aaa8f-5740-4c7f-b7bc-c6c168ba2ecd"
    }
   },
   "source": [
    "Double-click on the test here  to see that it is  formatted as markdown. Got to the \"Help\" option at the top and find your way to the markdown description. Format the next cell as markdown and add some structured text (e.g., headline with a list of things). "
   ]
  },
  {
   "cell_type": "code",
   "execution_count": null,
   "metadata": {},
   "outputs": [],
   "source": []
  },
  {
   "cell_type": "markdown",
   "metadata": {},
   "source": [
    "Let us write a bit of code and run it. Run the cell with >Cell > Run all or \"Shift Return\" or the run cell button at the top (to the left of the black square). Change the statement to something more intelligent. "
   ]
  },
  {
   "cell_type": "code",
   "execution_count": 1,
   "metadata": {},
   "outputs": [
    {
     "name": "stdout",
     "output_type": "stream",
     "text": [
      "Hello World\n"
     ]
    }
   ],
   "source": [
    "# I am a python code\n",
    "\n",
    "print(\"Hello World\")"
   ]
  },
  {
   "cell_type": "markdown",
   "metadata": {},
   "source": [
    "Let us illustrate the cool option include external graphs with www links. Check out the syntax by double-clicking in the figure \n",
    "<img src=\"https://www.nasa.gov/sites/default/files/styles/full_width_feature/public/thumbnails/image/iss056e162821.jpg\"\n",
    "     style=\"float: left; margin-right: 10px;\" />\n",
    "\n"
   ]
  },
  {
   "cell_type": "markdown",
   "metadata": {},
   "source": [
    "Find a picture of your liking locally or on the www and show it here:"
   ]
  },
  {
   "cell_type": "code",
   "execution_count": null,
   "metadata": {},
   "outputs": [],
   "source": []
  },
  {
   "cell_type": "markdown",
   "metadata": {},
   "source": [
    "# Save our work!\n",
    "\n",
    "If you work on Coursera or on http://www.seismo-live.org make and you change the codes make sure you save your work by going to > File > Download as  ... and save the notebook somewhere on your device for later use. Do that now!"
   ]
  },
  {
   "cell_type": "code",
   "execution_count": null,
   "metadata": {},
   "outputs": [],
   "source": []
  },
  {
   "cell_type": "markdown",
   "metadata": {},
   "source": [
    "Hope that helped!"
   ]
  }
 ],
 "metadata": {
  "anaconda-cloud": {},
  "kernelspec": {
   "display_name": "Python 3",
   "language": "python",
   "name": "python3"
  },
  "language_info": {
   "codemirror_mode": {
    "name": "ipython",
    "version": 3
   },
   "file_extension": ".py",
   "mimetype": "text/x-python",
   "name": "python",
   "nbconvert_exporter": "python",
   "pygments_lexer": "ipython3",
   "version": "3.6.5"
  },
  "nbpresent": {
   "slides": {
    "0b686bc4-22f3-47e0-ba66-14d07e7d4133": {
     "id": "0b686bc4-22f3-47e0-ba66-14d07e7d4133",
     "prev": "a7f30329-e918-40d2-8d5e-823e47d57d15",
     "regions": {
      "7658eb82-4c8d-492a-b6db-aeb975fa82dc": {
       "attrs": {
        "height": 0.8,
        "width": 0.8,
        "x": 0.1,
        "y": 0.1
       },
       "content": {
        "cell": "b3dac541-c1db-46a5-b4d3-a0060005afba",
        "part": "whole"
       },
       "id": "7658eb82-4c8d-492a-b6db-aeb975fa82dc"
      }
     }
    },
    "4a6f2385-f170-4d31-b402-161e766c6c75": {
     "id": "4a6f2385-f170-4d31-b402-161e766c6c75",
     "prev": "b8fb3ea6-ca20-4edf-9b67-2824cfbb2353",
     "regions": {
      "3221b920-50e8-472f-a48e-46a7fd2ee750": {
       "attrs": {
        "height": 0.7999999999999999,
        "width": 0.8,
        "x": 0.08634812286689433,
        "y": 0.08483124762988255
       },
       "content": {
        "cell": "218aaa8f-5740-4c7f-b7bc-c6c168ba2ecd",
        "part": "whole"
       },
       "id": "3221b920-50e8-472f-a48e-46a7fd2ee750"
      }
     }
    },
    "52839f04-d083-4a9a-9e48-0474ae39ba83": {
     "id": "52839f04-d083-4a9a-9e48-0474ae39ba83",
     "prev": "a303ddfb-e18a-41af-8941-e3ba83804bba",
     "regions": {
      "e3b3cf88-73f0-486f-942a-c039d6227bbc": {
       "attrs": {
        "height": 0.8,
        "width": 0.8,
        "x": 0.1,
        "y": 0.1
       },
       "content": {
        "cell": "a221b080-ac6e-40f9-ad85-a093fe82c5f8",
        "part": "whole"
       },
       "id": "e3b3cf88-73f0-486f-942a-c039d6227bbc"
      }
     }
    },
    "5cf06d9c-65f1-4924-951c-31e88b6e1fda": {
     "id": "5cf06d9c-65f1-4924-951c-31e88b6e1fda",
     "prev": "4a6f2385-f170-4d31-b402-161e766c6c75",
     "regions": {
      "d27aa208-8903-4e6f-98d4-2ff2c708d780": {
       "attrs": {
        "height": 0.8,
        "width": 0.8,
        "x": 0.1,
        "y": 0.1
       },
       "content": {
        "cell": "78c4fa61-9316-4e30-9d70-76bf31a62797",
        "part": "whole"
       },
       "id": "d27aa208-8903-4e6f-98d4-2ff2c708d780"
      }
     }
    },
    "6ee8fee1-3011-49a3-995d-afa3dada1920": {
     "id": "6ee8fee1-3011-49a3-995d-afa3dada1920",
     "prev": "0b686bc4-22f3-47e0-ba66-14d07e7d4133",
     "regions": {
      "e05354ba-62ff-42e7-9bbe-bc2fcc15231d": {
       "attrs": {
        "height": 0.8,
        "width": 0.8,
        "x": 0.1,
        "y": 0.1
       },
       "content": {
        "cell": "654f633a-08ce-4bec-9d1c-2b54af728587",
        "part": "whole"
       },
       "id": "e05354ba-62ff-42e7-9bbe-bc2fcc15231d"
      }
     }
    },
    "72a57833-ad8e-43e7-ae55-7c090f7abbde": {
     "id": "72a57833-ad8e-43e7-ae55-7c090f7abbde",
     "prev": "bdd321ea-6e0d-4ad8-98a2-facd72ecbd1d",
     "regions": {
      "4d0e6a8e-0b78-426d-b371-222302e7c92e": {
       "attrs": {
        "height": 0.8,
        "width": 0.8,
        "x": 0.1,
        "y": 0.1
       },
       "content": {
        "cell": "731499f2-5c1a-46a3-9dd7-0fe9e740e8d4",
        "part": "whole"
       },
       "id": "4d0e6a8e-0b78-426d-b371-222302e7c92e"
      }
     }
    },
    "9c88f3d0-e761-4d78-95ef-ccb12c1ee0ad": {
     "id": "9c88f3d0-e761-4d78-95ef-ccb12c1ee0ad",
     "prev": "c994958c-1df8-44ba-b348-848ec9c542e5",
     "regions": {
      "f8334c9f-716b-4296-aad8-ed0757646e8d": {
       "attrs": {
        "height": 0.8,
        "width": 0.8,
        "x": 0.1,
        "y": 0.1
       },
       "content": {
        "cell": "ef866370-5d28-4549-a6f8-e41bee86acdf",
        "part": "whole"
       },
       "id": "f8334c9f-716b-4296-aad8-ed0757646e8d"
      }
     }
    },
    "a303ddfb-e18a-41af-8941-e3ba83804bba": {
     "id": "a303ddfb-e18a-41af-8941-e3ba83804bba",
     "prev": "e3efaa73-c533-4b49-a008-02da11f801ae",
     "regions": {
      "d5cf3a55-7311-4514-8e61-71a178f77708": {
       "attrs": {
        "height": 0.8,
        "width": 0.8,
        "x": 0.1,
        "y": 0.1
       },
       "content": {
        "cell": "1a162fb0-320a-4eef-81db-298723350bee",
        "part": "whole"
       },
       "id": "d5cf3a55-7311-4514-8e61-71a178f77708"
      }
     }
    },
    "a7f30329-e918-40d2-8d5e-823e47d57d15": {
     "id": "a7f30329-e918-40d2-8d5e-823e47d57d15",
     "prev": "52839f04-d083-4a9a-9e48-0474ae39ba83",
     "regions": {
      "f03470b5-fd88-4172-9f11-f313cf1d3868": {
       "attrs": {
        "height": 0.8,
        "width": 0.8,
        "x": 0.1,
        "y": 0.1
       },
       "content": {
        "cell": "7661a51a-d5ee-4479-b8d4-78e9da50bfaa",
        "part": "whole"
       },
       "id": "f03470b5-fd88-4172-9f11-f313cf1d3868"
      }
     }
    },
    "b8fb3ea6-ca20-4edf-9b67-2824cfbb2353": {
     "id": "b8fb3ea6-ca20-4edf-9b67-2824cfbb2353",
     "prev": "9c88f3d0-e761-4d78-95ef-ccb12c1ee0ad",
     "regions": {
      "c801565c-7970-41fa-ae49-a8a61a188277": {
       "attrs": {
        "height": 0.8,
        "width": 0.8,
        "x": 0.1,
        "y": 0.1
       },
       "content": {
        "cell": "640049fd-55c0-418e-be5d-278159c3335d",
        "part": "whole"
       },
       "id": "c801565c-7970-41fa-ae49-a8a61a188277"
      }
     }
    },
    "bdd321ea-6e0d-4ad8-98a2-facd72ecbd1d": {
     "id": "bdd321ea-6e0d-4ad8-98a2-facd72ecbd1d",
     "prev": "5cf06d9c-65f1-4924-951c-31e88b6e1fda",
     "regions": {
      "4f276977-23d4-49cf-9b95-aa1d9dacc857": {
       "attrs": {
        "height": 0.8,
        "width": 0.8,
        "x": 0.1,
        "y": 0.1
       },
       "content": {
        "cell": "ff03aeb5-ea0c-49ea-966b-41e32a43652a",
        "part": "whole"
       },
       "id": "4f276977-23d4-49cf-9b95-aa1d9dacc857"
      }
     }
    },
    "c994958c-1df8-44ba-b348-848ec9c542e5": {
     "id": "c994958c-1df8-44ba-b348-848ec9c542e5",
     "prev": "dd629a8a-44fa-4197-aea6-b07c27936e9c",
     "regions": {
      "a038a02c-47fd-4f63-a95a-86e23c713e05": {
       "attrs": {
        "height": 0.8,
        "width": 0.8,
        "x": 0.1,
        "y": 0.1
       },
       "content": {
        "cell": "df2e65e1-ba88-4a57-9329-2d20b7d521ad",
        "part": "whole"
       },
       "id": "a038a02c-47fd-4f63-a95a-86e23c713e05"
      }
     }
    },
    "dd629a8a-44fa-4197-aea6-b07c27936e9c": {
     "id": "dd629a8a-44fa-4197-aea6-b07c27936e9c",
     "prev": null,
     "regions": {
      "abf4e57e-342b-4f9a-8cc8-0cf1b2b87170": {
       "attrs": {
        "height": 0.8,
        "width": 0.8,
        "x": 0.1,
        "y": 0.1
       },
       "content": {
        "cell": "5d520f9b-b602-4c79-8a60-fe27a18ed013",
        "part": "whole"
       },
       "id": "abf4e57e-342b-4f9a-8cc8-0cf1b2b87170"
      }
     }
    },
    "e3efaa73-c533-4b49-a008-02da11f801ae": {
     "id": "e3efaa73-c533-4b49-a008-02da11f801ae",
     "prev": "72a57833-ad8e-43e7-ae55-7c090f7abbde",
     "regions": {
      "17689222-4250-4662-943b-5248430b43ce": {
       "attrs": {
        "height": 0.8,
        "width": 0.8,
        "x": 0.1,
        "y": 0.1
       },
       "content": {
        "cell": "9dfc0b23-793e-44b8-bbf7-6211f6ba6d66",
        "part": "whole"
       },
       "id": "17689222-4250-4662-943b-5248430b43ce"
      }
     }
    }
   },
   "themes": {
    "default": "6a214ddf-c320-4417-b118-9dd44354d839",
    "theme": {}
   }
  }
 },
 "nbformat": 4,
 "nbformat_minor": 1
}
