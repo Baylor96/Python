{
 "cells": [
  {
   "cell_type": "code",
   "execution_count": null,
   "metadata": {},
   "outputs": [],
   "source": [
    "import numpy as np\n",
    "import matplotlib\n",
    "matplotlib.use(\"nbagg\")\n",
    "import matplotlib.pyplot as plt\n",
    "import matplotlib.animation as animation"
   ]
  },
  {
   "cell_type": "code",
   "execution_count": null,
   "metadata": {},
   "outputs": [],
   "source": [
    "nx    = 1000    \n",
    "xmax  = 10000.   \n",
    "vs    = 3000    \n",
    "ro0   = 2500    \n",
    "nt    = 2000    \n",
    "isx   = 500     \n",
    "eps   = 0.5     \n",
    "iplot = 20      \n",
    "\n",
    "dx = xmax/(nx-1)          \n",
    "x  = np.arange(0, nx)*dx  \n",
    "x  = np.transpose(x)\n",
    "\n",
    "h = np.diff(x)  \n",
    "\n",
    "ro = x*0 + ro0\n",
    "mu = x*0 + ro*vs**2\n",
    "\n",
    "dt = 0.5*eps*dx/np.max(np.sqrt(mu/ro))\n",
    "t   = np.arange(1, nt+1)*dt  \n",
    "\n",
    "u    = np.zeros(nx)\n",
    "uold = np.zeros(nx)\n",
    "unew = np.zeros(nx)\n",
    "\n",
    "p    = np.zeros(nx)\n",
    "pold = np.zeros(nx)\n",
    "pnew = np.zeros(nx)"
   ]
  },
  {
   "cell_type": "code",
   "execution_count": null,
   "metadata": {},
   "outputs": [],
   "source": [
    "pt  = 20*dt   \n",
    "t0  = 3*pt     \n",
    "src = -2/pt**2 * (t-t0) * np.exp(-1/pt**2 * (t-t0)**2)\n",
    "\n",
    "f = np.zeros(nx); f[isx:isx+1] = f[isx:isx+1] + 1."
   ]
  },
  {
   "cell_type": "code",
   "execution_count": null,
   "metadata": {},
   "outputs": [],
   "source": [
    "plt.plot(t, src, color='b', lw=2, label='Source time function')\n",
    "plt.ylabel('Amplitude', size=16)\n",
    "plt.xlabel('time', size=16)\n",
    "plt.legend()\n",
    "plt.grid(True)\n",
    "plt.show()"
   ]
  },
  {
   "cell_type": "code",
   "execution_count": null,
   "metadata": {},
   "outputs": [],
   "source": [
    "M = np.zeros((nx,nx), dtype=float)\n",
    "for i in range(1, nx-1):\n",
    "    for j in range (1, nx-1):\n",
    "        if j==i:\n",
    "            M[i,j] = (ro[i-1]*h[i-1] + ro[i]*h[i])/3\n",
    "        elif j==i+1:\n",
    "            M[i,j] = ro[i]*h[i]/6\n",
    "        elif j==i-1:\n",
    "            M[i,j] = ro[i-1]*h[i-1]/6\n",
    "        else:\n",
    "            M[i,j] = 0\n",
    "            \n",
    "M[0,0] = ro[0]*h[0]/3\n",
    "M[nx-1,nx-1] = ro[nx-1]*h[nx-2]/3\n",
    "\n",
    "Minv = np.linalg.inv(M)"
   ]
  },
  {
   "cell_type": "code",
   "execution_count": null,
   "metadata": {},
   "outputs": [],
   "source": [
    "K = np.zeros((nx,nx), dtype=float)\n",
    "for i in range(1, nx-1):\n",
    "    for j in range(1, nx-1):\n",
    "        if i==j:\n",
    "            K[i,j] = mu[i-1]/h[i-1] + mu[i]/h[i]\n",
    "        elif i==j+1:\n",
    "            K[i,j] = -mu[i-1]/h[i-1]\n",
    "        elif i+1==j:\n",
    "            K[i,j] = -mu[i]/h[i]\n",
    "        else:\n",
    "            K[i,j] = 0\n",
    "\n",
    "K[0,0] = mu[0]/h[0]\n",
    "K[nx-1,nx-1] = mu[nx-1]/h[nx-2]"
   ]
  },
  {
   "cell_type": "code",
   "execution_count": null,
   "metadata": {},
   "outputs": [],
   "source": [
    "fig, (ax1, ax2) = plt.subplots(1, 2)\n",
    "ax1.imshow(K[1:10,1:10])\n",
    "ax1.set_title('Finite-Element Stiffness Matrix $\\mathbf{K}$')\n",
    "ax1.axis(\"off\")\n",
    "\n",
    "ax2.imshow(Minv[1:10,1:10])\n",
    "ax2.set_title('Finite-Element Mass Matrix $\\mathbf{M^{-1}}$')\n",
    "ax2.axis(\"off\")\n",
    "\n",
    "plt.tight_layout()\n",
    "plt.show()"
   ]
  },
  {
   "cell_type": "code",
   "execution_count": null,
   "metadata": {},
   "outputs": [],
   "source": [
    "Mfd = np.zeros((nx,nx), dtype=float)\n",
    "D  = np.zeros((nx,nx), dtype=float)\n",
    "dx = h[1]\n",
    "\n",
    "for i in range(nx):\n",
    "    Mfd[i,i] = 1./ro[i]\n",
    "    if i>0:\n",
    "        if i<nx-1:\n",
    "            D[i+1,i] =1\n",
    "            D[i-1,i] =1\n",
    "            D[i,i] = -2\n",
    "            \n",
    "D = ro0 * vs**2 * D/dx**2"
   ]
  },
  {
   "cell_type": "code",
   "execution_count": null,
   "metadata": {},
   "outputs": [],
   "source": [
    "fig, (ax1, ax2) = plt.subplots(1, 2)\n",
    "ax1.imshow(-D[1:10,1:10])\n",
    "ax1.set_title('Finite-Difference Derivative Matrix $\\mathbf{D}$')\n",
    "ax1.axis(\"off\")\n",
    "\n",
    "ax2.imshow(Mfd[1:10,1:10])\n",
    "ax2.set_title('Finite-Difference Mass Matrix $\\mathbf{M_{fd}}$')\n",
    "ax2.axis(\"off\")\n",
    "\n",
    "plt.tight_layout()\n",
    "plt.show()"
   ]
  },
  {
   "cell_type": "code",
   "execution_count": null,
   "metadata": {},
   "outputs": [],
   "source": [
    "plt.figure(figsize=(10,4))\n",
    "\n",
    "line1 = plt.plot(x, u, 'k', lw=1.5, label='FEM')\n",
    "line2 = plt.plot(x, p, 'r', lw=1.5, label='FDM')\n",
    "plt.title('Finite elements 1D Animation', fontsize=16)\n",
    "plt.ylabel('Amplitude', fontsize=12)\n",
    "plt.xlabel('x (m)', fontsize=12)\n",
    "\n",
    "plt.ion()  \n",
    "plt.show()"
   ]
  },
  {
   "cell_type": "code",
   "execution_count": null,
   "metadata": {},
   "outputs": [],
   "source": [
    "for it in range(nt):\n",
    "    unew = (dt**2) * Minv @ (f*src[it]  -  K @ u) + 2*u - uold                         \n",
    "    uold, u = u, unew\n",
    "    \n",
    "    pnew = (dt**2) * Mfd @ ( f/dx*src[it]+ D @ p) + 2*p - pold\n",
    "    pold, p = p, pnew\n",
    "     \n",
    "    if not it % iplot:\n",
    "        for l in line1:\n",
    "            l.remove()\n",
    "            del l\n",
    "        for l in line2:\n",
    "            l.remove()\n",
    "            del l\n",
    "        line1 = plt.plot(x, u, 'k', lw=1.5, label='FEM')\n",
    "        line2 = plt.plot(x, p, 'r', lw=1.5, label='FDM')\n",
    "        plt.legend()\n",
    "        plt.gcf().canvas.draw()"
   ]
  }
 ],
 "metadata": {
  "kernelspec": {
   "display_name": "Python 3",
   "language": "python",
   "name": "python3"
  },
  "language_info": {
   "codemirror_mode": {
    "name": "ipython",
    "version": 3
   },
   "file_extension": ".py",
   "mimetype": "text/x-python",
   "name": "python",
   "nbconvert_exporter": "python",
   "pygments_lexer": "ipython3",
   "version": "3.7.6"
  }
 },
 "nbformat": 4,
 "nbformat_minor": 2
}
