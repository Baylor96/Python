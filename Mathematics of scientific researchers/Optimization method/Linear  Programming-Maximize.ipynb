{
 "cells": [
  {
   "cell_type": "code",
   "execution_count": 1,
   "id": "1c5c2f63",
   "metadata": {},
   "outputs": [],
   "source": [
    "import pulp"
   ]
  },
  {
   "cell_type": "code",
   "execution_count": 2,
   "id": "3375234f",
   "metadata": {},
   "outputs": [],
   "source": [
    "problem = pulp.LpProblem('Human', pulp.LpMaximize)"
   ]
  },
  {
   "cell_type": "code",
   "execution_count": 3,
   "id": "3c4583ec",
   "metadata": {},
   "outputs": [],
   "source": [
    "x1 = pulp.LpVariable('Company1', lowBound=0, cat=pulp.LpInteger)\n",
    "x2 = pulp.LpVariable('Company2', lowBound=0, cat=pulp.LpInteger)"
   ]
  },
  {
   "cell_type": "code",
   "execution_count": 4,
   "id": "38b97332",
   "metadata": {},
   "outputs": [],
   "source": [
    "problem += 40 * x1 + 30 * x2"
   ]
  },
  {
   "cell_type": "code",
   "execution_count": 5,
   "id": "9328b13f",
   "metadata": {},
   "outputs": [],
   "source": [
    "problem += 1 * x1 + 2 * x2 <= 16\n",
    "problem += 1 * x1 + 1 * x2 <= 9\n",
    "problem += 3 * x1 + 2 * x2 <= 24"
   ]
  },
  {
   "cell_type": "code",
   "execution_count": 6,
   "id": "8eb343da",
   "metadata": {},
   "outputs": [
    {
     "name": "stdout",
     "output_type": "stream",
     "text": [
      "Welcome to the CBC MILP Solver \n",
      "Version: 2.10.3 \n",
      "Build Date: Dec 15 2019 \n",
      "\n",
      "command line - /media/ljy/datadisk/anaconda2/envs/python3/lib/python3.9/site-packages/pulp/apis/../solverdir/cbc/linux/64/cbc /tmp/49e8a5dc947a43efb9b3bfb21d1b0339-pulp.mps max timeMode elapsed branch printingOptions all solution /tmp/49e8a5dc947a43efb9b3bfb21d1b0339-pulp.sol (default strategy 1)\n",
      "At line 2 NAME          MODEL\n",
      "At line 3 ROWS\n",
      "At line 8 COLUMNS\n",
      "At line 21 RHS\n",
      "At line 25 BOUNDS\n",
      "At line 28 ENDATA\n",
      "Problem MODEL has 3 rows, 2 columns and 6 elements\n",
      "Coin0008I MODEL read with 0 errors\n",
      "Option for timeMode changed from cpu to elapsed\n",
      "Continuous objective value is 330 - 0.00 seconds\n",
      "Cgl0004I processed model has 3 rows, 2 columns (2 integer (0 of which binary)) and 6 elements\n",
      "Cutoff increment increased from 1e-05 to 9.9999\n",
      "Cbc0012I Integer solution of -330 found by DiveCoefficient after 0 iterations and 0 nodes (0.00 seconds)\n",
      "Cbc0001I Search completed - best objective -330, took 0 iterations and 0 nodes (0.00 seconds)\n",
      "Cbc0035I Maximum depth 0, 0 variables fixed on reduced cost\n",
      "Cuts at root node changed objective from -330 to -330\n",
      "Probing was tried 0 times and created 0 cuts of which 0 were active after adding rounds of cuts (0.000 seconds)\n",
      "Gomory was tried 0 times and created 0 cuts of which 0 were active after adding rounds of cuts (0.000 seconds)\n",
      "Knapsack was tried 0 times and created 0 cuts of which 0 were active after adding rounds of cuts (0.000 seconds)\n",
      "Clique was tried 0 times and created 0 cuts of which 0 were active after adding rounds of cuts (0.000 seconds)\n",
      "MixedIntegerRounding2 was tried 0 times and created 0 cuts of which 0 were active after adding rounds of cuts (0.000 seconds)\n",
      "FlowCover was tried 0 times and created 0 cuts of which 0 were active after adding rounds of cuts (0.000 seconds)\n",
      "TwoMirCuts was tried 0 times and created 0 cuts of which 0 were active after adding rounds of cuts (0.000 seconds)\n",
      "ZeroHalf was tried 0 times and created 0 cuts of which 0 were active after adding rounds of cuts (0.000 seconds)\n",
      "\n",
      "Result - Optimal solution found\n",
      "\n",
      "Objective value:                330.00000000\n",
      "Enumerated nodes:               0\n",
      "Total iterations:               0\n",
      "Time (CPU seconds):             0.00\n",
      "Time (Wallclock seconds):       0.00\n",
      "\n",
      "Option for printingOptions changed from normal to all\n",
      "Total time (CPU seconds):       0.00   (Wallclock seconds):       0.00\n",
      "\n"
     ]
    }
   ],
   "source": [
    "status = problem.solve()"
   ]
  },
  {
   "cell_type": "code",
   "execution_count": 7,
   "id": "bda94db5",
   "metadata": {},
   "outputs": [
    {
     "name": "stdout",
     "output_type": "stream",
     "text": [
      "Optimal\n",
      "330.0\n"
     ]
    }
   ],
   "source": [
    "print(pulp.LpStatus[status])\n",
    "print(pulp.value(problem.objective))"
   ]
  },
  {
   "cell_type": "code",
   "execution_count": 8,
   "id": "a7b9465e",
   "metadata": {},
   "outputs": [
    {
     "name": "stdout",
     "output_type": "stream",
     "text": [
      "Company1:6.0\n",
      "Company2:3.0\n"
     ]
    }
   ],
   "source": [
    "for i in problem.variables():\n",
    "    print('{}:{}'.format(i, i.varValue))"
   ]
  },
  {
   "cell_type": "code",
   "execution_count": null,
   "id": "907c6b03",
   "metadata": {},
   "outputs": [],
   "source": []
  }
 ],
 "metadata": {
  "kernelspec": {
   "display_name": "Python [conda env:python3] *",
   "language": "python",
   "name": "conda-env-python3-py"
  },
  "language_info": {
   "codemirror_mode": {
    "name": "ipython",
    "version": 3
   },
   "file_extension": ".py",
   "mimetype": "text/x-python",
   "name": "python",
   "nbconvert_exporter": "python",
   "pygments_lexer": "ipython3",
   "version": "3.9.2"
  }
 },
 "nbformat": 4,
 "nbformat_minor": 5
}
