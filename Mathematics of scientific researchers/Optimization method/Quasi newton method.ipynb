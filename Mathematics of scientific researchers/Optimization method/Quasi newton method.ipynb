{
 "cells": [
  {
   "cell_type": "code",
   "execution_count": 1,
   "id": "f3e41db5",
   "metadata": {},
   "outputs": [],
   "source": [
    "import numpy as np\n",
    "import matplotlib.pyplot as plt"
   ]
  },
  {
   "cell_type": "code",
   "execution_count": 2,
   "id": "06756cf1",
   "metadata": {},
   "outputs": [],
   "source": [
    "X = np.array((np.ones(100), np.random.rand(100)))\n",
    "y = np.dot([4,3], X) + np.random.rand(100)"
   ]
  },
  {
   "cell_type": "code",
   "execution_count": 3,
   "id": "dc774d58",
   "metadata": {},
   "outputs": [
    {
     "data": {
      "text/plain": [
       "<matplotlib.collections.PathCollection at 0x7fb674fa7760>"
      ]
     },
     "execution_count": 3,
     "metadata": {},
     "output_type": "execute_result"
    },
    {
     "data": {
      "image/png": "[encoded data removed]",
      "text/plain": [
       "<Figure size 432x288 with 1 Axes>"
      ]
     },
     "metadata": {
      "needs_background": "light"
     },
     "output_type": "display_data"
    }
   ],
   "source": [
    "plt.scatter(X[1,:], y)"
   ]
  },
  {
   "cell_type": "code",
   "execution_count": 4,
   "id": "5ec0d1a4",
   "metadata": {},
   "outputs": [],
   "source": [
    "def gradient(theta, m, X, y):\n",
    "    grad = 1 / m * (np.dot(theta, X) - y).dot(X.T)\n",
    "    return grad"
   ]
  },
  {
   "cell_type": "code",
   "execution_count": 5,
   "id": "bcebdf00",
   "metadata": {},
   "outputs": [],
   "source": [
    "def loss_fuction(theta, m, X, y):\n",
    "    loss = 1 / (2*m) * np.sum(np.square(np.dot(theta, X) - y))\n",
    "    return loss"
   ]
  },
  {
   "cell_type": "code",
   "execution_count": 6,
   "id": "a078923e",
   "metadata": {},
   "outputs": [],
   "source": [
    "def quasi_newton(theta, X, y, iteration):\n",
    "    \n",
    "    n = X.shape[0]\n",
    "    m = len(y)\n",
    "    \n",
    "    theta_history = np.zeros((iteration+1, n))\n",
    "    loss_history = np.zeros(iteration+1)\n",
    "    Dk_history = np.zeros((iteration+1, n, n))\n",
    "    \n",
    "    theta_history[0, :] = theta\n",
    "    loss_history[0] = loss_fuction(theta, m, X, y)\n",
    "    Dk_history[0] = np.eye(n)\n",
    "    \n",
    "    for i in range(1, iteration+1):\n",
    "        \n",
    "        grad = gradient(theta, m, X, y)\n",
    "        Dk = Dk_history[i-1]\n",
    "        theta_prev = theta_history[i-1]\n",
    "        \n",
    "        theta = theta_prev - grad.dot(Dk)\n",
    "        loss = loss_fuction(theta, m, X, y)\n",
    "        sk = theta - theta_prev\n",
    "        yk = gradient(theta, m, X, y) - gradient(theta_prev, m, X, y)\n",
    "        Dk_delta = (np.dot(sk, sk.T) / np.dot(sk.T, yk)) - (np.dot(Dk, yk).dot(np.dot(yk.T,Dk.T)) / np.dot(yk.T, Dk).dot(yk)) \n",
    "        Dk_next = Dk + Dk_delta\n",
    "        \n",
    "        theta_history[i, :] = theta\n",
    "        loss_history[i] = loss\n",
    "        Dk_history[i, :, :] = Dk_next\n",
    "        \n",
    "        print('Iteration:{}'.format(i))\n",
    "        print('theta:{}'.format(theta))\n",
    "        print('loss:{}'.format(loss))\n",
    "        \n",
    "    return theta_history, loss_history, Dk_history"
   ]
  },
  {
   "cell_type": "code",
   "execution_count": 7,
   "id": "732ee340",
   "metadata": {},
   "outputs": [],
   "source": [
    "iterations = 5\n",
    "theta_init = np.random.random(2)"
   ]
  },
  {
   "cell_type": "code",
   "execution_count": 8,
   "id": "d6c3f7af",
   "metadata": {},
   "outputs": [
    {
     "data": {
      "text/plain": [
       "array([0.86152352, 0.69133921])"
      ]
     },
     "execution_count": 8,
     "metadata": {},
     "output_type": "execute_result"
    }
   ],
   "source": [
    "theta_init"
   ]
  },
  {
   "cell_type": "code",
   "execution_count": 9,
   "id": "dd3ee8e7",
   "metadata": {},
   "outputs": [
    {
     "name": "stdout",
     "output_type": "stream",
     "text": [
      "Iteration:1\n",
      "theta:[5.56759939 3.16100952]\n",
      "loss:0.7363960023085886\n",
      "Iteration:2\n",
      "theta:[4.73954587 2.92653179]\n",
      "loss:0.06976638255809729\n",
      "Iteration:3\n",
      "theta:[4.51303551 2.82529776]\n",
      "loss:0.04308762873704094\n",
      "Iteration:4\n",
      "theta:[4.5393475  2.84328812]\n",
      "loss:0.04218279005257679\n",
      "Iteration:5\n",
      "theta:[4.54154027 2.85360164]\n",
      "loss:0.04209185940135364\n"
     ]
    }
   ],
   "source": [
    "theta_history, loss_history, Dk_history = quasi_newton(theta_init, X, y, iterations)"
   ]
  },
  {
   "cell_type": "code",
   "execution_count": 10,
   "id": "591f7a2f",
   "metadata": {},
   "outputs": [
    {
     "data": {
      "text/plain": [
       "[<matplotlib.lines.Line2D at 0x7fb66ce36160>]"
      ]
     },
     "execution_count": 10,
     "metadata": {},
     "output_type": "execute_result"
    },
    {
     "data": {
      "image/png": "[encoded data removed]",
      "text/plain": [
       "<Figure size 432x288 with 1 Axes>"
      ]
     },
     "metadata": {
      "needs_background": "light"
     },
     "output_type": "display_data"
    }
   ],
   "source": [
    "plt.plot(loss_history)"
   ]
  },
  {
   "cell_type": "code",
   "execution_count": 11,
   "id": "4648bc4c",
   "metadata": {},
   "outputs": [
    {
     "data": {
      "text/plain": [
       "<matplotlib.legend.Legend at 0x7fb66ce19580>"
      ]
     },
     "execution_count": 11,
     "metadata": {},
     "output_type": "execute_result"
    },
    {
     "data": {
      "image/png": "[encoded data removed]",
      "text/plain": [
       "<Figure size 432x288 with 1 Axes>"
      ]
     },
     "metadata": {
      "needs_background": "light"
     },
     "output_type": "display_data"
    }
   ],
   "source": [
    "plt.scatter(X[1,:], y)\n",
    "\n",
    "x = np.linspace(0, 1, 11)\n",
    "\n",
    "plt.plot(x, theta_history[0, 0] + theta_history[0, 1] * x, c='g', label = 'Initial')\n",
    "plt.plot(x, theta_history[iterations, 0] + theta_history[iterations, 1] * x, c='r', label = 'Final')\n",
    "plt.legend()"
   ]
  },
  {
   "cell_type": "code",
   "execution_count": null,
   "id": "d71a9158",
   "metadata": {},
   "outputs": [],
   "source": []
  }
 ],
 "metadata": {
  "kernelspec": {
   "display_name": "Python [conda env:python3] *",
   "language": "python",
   "name": "conda-env-python3-py"
  },
  "language_info": {
   "codemirror_mode": {
    "name": "ipython",
    "version": 3
   },
   "file_extension": ".py",
   "mimetype": "text/x-python",
   "name": "python",
   "nbconvert_exporter": "python",
   "pygments_lexer": "ipython3",
   "version": "3.9.2"
  }
 },
 "nbformat": 4,
 "nbformat_minor": 5
}
