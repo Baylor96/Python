{
 "cells": [
  {
   "cell_type": "code",
   "execution_count": 1,
   "id": "fc7ceb19",
   "metadata": {},
   "outputs": [],
   "source": [
    "import pulp"
   ]
  },
  {
   "cell_type": "code",
   "execution_count": 2,
   "id": "2153a8d5",
   "metadata": {},
   "outputs": [],
   "source": [
    "problem = pulp.LpProblem('Diet', pulp.LpMinimize)"
   ]
  },
  {
   "cell_type": "code",
   "execution_count": 3,
   "id": "a430831b",
   "metadata": {},
   "outputs": [],
   "source": [
    "x1 = pulp.LpVariable('Oatmeal', lowBound=0)\n",
    "x2 = pulp.LpVariable('Wholemilk', lowBound=0)\n",
    "x3 = pulp.LpVariable('Cherrypie', lowBound=0)\n",
    "x4 = pulp.LpVariable('Porkwithbeans', lowBound=0)"
   ]
  },
  {
   "cell_type": "code",
   "execution_count": 4,
   "id": "c6b68ce9",
   "metadata": {},
   "outputs": [],
   "source": [
    "problem += 3 * x1 + 9 * x2 + 20 * x3 + 19 * x4"
   ]
  },
  {
   "cell_type": "code",
   "execution_count": 5,
   "id": "0de57f46",
   "metadata": {},
   "outputs": [],
   "source": [
    "problem += 110 * x1 + 160 * x2 + 420 * x3 + 260 * x4 >= 2000\n",
    "problem += 4 * x1 + 8 * x2 + 4 * x3 + 14 * x4 >= 55\n",
    "problem += 2 * x1 + 285 * x2 + 22 * x3 + 80 * x4 >= 800"
   ]
  },
  {
   "cell_type": "code",
   "execution_count": 6,
   "id": "1c56154e",
   "metadata": {},
   "outputs": [
    {
     "name": "stdout",
     "output_type": "stream",
     "text": [
      "Welcome to the CBC MILP Solver \n",
      "Version: 2.10.3 \n",
      "Build Date: Dec 15 2019 \n",
      "\n",
      "command line - /media/ljy/datadisk/anaconda2/envs/python3/lib/python3.9/site-packages/pulp/apis/../solverdir/cbc/linux/64/cbc /tmp/992a3121ac794d3681e9c2b63c991cc1-pulp.mps timeMode elapsed branch printingOptions all solution /tmp/992a3121ac794d3681e9c2b63c991cc1-pulp.sol (default strategy 1)\n",
      "At line 2 NAME          MODEL\n",
      "At line 3 ROWS\n",
      "At line 8 COLUMNS\n",
      "At line 25 RHS\n",
      "At line 29 BOUNDS\n",
      "At line 30 ENDATA\n",
      "Problem MODEL has 3 rows, 4 columns and 12 elements\n",
      "Coin0008I MODEL read with 0 errors\n",
      "Option for timeMode changed from cpu to elapsed\n",
      "Presolve 3 (0) rows, 4 (0) columns and 12 (0) elements\n",
      "0  Obj 0 Primal inf 46.308311 (3)\n",
      "2  Obj 67.096358\n",
      "Optimal - objective value 67.096358\n",
      "Optimal objective 67.09635836 - 2 iterations time 0.002\n",
      "Option for printingOptions changed from normal to all\n",
      "Total time (CPU seconds):       0.00   (Wallclock seconds):       0.00\n",
      "\n"
     ]
    }
   ],
   "source": [
    "status = problem.solve()"
   ]
  },
  {
   "cell_type": "code",
   "execution_count": 7,
   "id": "0f571af9",
   "metadata": {},
   "outputs": [
    {
     "name": "stdout",
     "output_type": "stream",
     "text": [
      "Optimal\n",
      "67.09635929999999\n"
     ]
    }
   ],
   "source": [
    "print(pulp.LpStatus[status])\n",
    "print(pulp.value(problem.objective))"
   ]
  },
  {
   "cell_type": "code",
   "execution_count": 8,
   "id": "955851ae",
   "metadata": {},
   "outputs": [
    {
     "data": {
      "text/plain": [
       "[Cherrypie, Oatmeal, Porkwithbeans, Wholemilk]"
      ]
     },
     "execution_count": 8,
     "metadata": {},
     "output_type": "execute_result"
    }
   ],
   "source": [
    "[i for i in problem.variables()]"
   ]
  },
  {
   "cell_type": "code",
   "execution_count": 9,
   "id": "cb11f5a6",
   "metadata": {},
   "outputs": [
    {
     "data": {
      "text/plain": [
       "[0.0, 14.24428, 0.0, 2.7070577]"
      ]
     },
     "execution_count": 9,
     "metadata": {},
     "output_type": "execute_result"
    }
   ],
   "source": [
    "[i.varValue for i in problem.variables()]"
   ]
  },
  {
   "cell_type": "code",
   "execution_count": 10,
   "id": "33d680d6",
   "metadata": {},
   "outputs": [
    {
     "name": "stdout",
     "output_type": "stream",
     "text": [
      "Cherrypie:0.0\n",
      "Oatmeal:14.24428\n",
      "Porkwithbeans:0.0\n",
      "Wholemilk:2.7070577\n"
     ]
    }
   ],
   "source": [
    "for i in problem.variables():\n",
    "    print('{}:{}'.format(i, i.varValue))"
   ]
  },
  {
   "cell_type": "code",
   "execution_count": null,
   "id": "16aff90b",
   "metadata": {},
   "outputs": [],
   "source": []
  }
 ],
 "metadata": {
  "kernelspec": {
   "display_name": "Python [conda env:python3] *",
   "language": "python",
   "name": "conda-env-python3-py"
  },
  "language_info": {
   "codemirror_mode": {
    "name": "ipython",
    "version": 3
   },
   "file_extension": ".py",
   "mimetype": "text/x-python",
   "name": "python",
   "nbconvert_exporter": "python",
   "pygments_lexer": "ipython3",
   "version": "3.9.2"
  }
 },
 "nbformat": 4,
 "nbformat_minor": 5
}
