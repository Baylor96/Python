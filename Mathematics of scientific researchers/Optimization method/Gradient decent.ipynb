{
 "cells": [
  {
   "cell_type": "code",
   "execution_count": 1,
   "id": "ca590e3b",
   "metadata": {},
   "outputs": [],
   "source": [
    "import numpy as np\n",
    "import matplotlib.pyplot as plt"
   ]
  },
  {
   "cell_type": "code",
   "execution_count": 2,
   "id": "2be1cd75",
   "metadata": {},
   "outputs": [],
   "source": [
    "X = np.array([np.ones(100), np.random.rand(100)])\n",
    "y = np.dot([4,3], X) + np.random.rand(100)"
   ]
  },
  {
   "cell_type": "code",
   "execution_count": 3,
   "id": "5651e145",
   "metadata": {},
   "outputs": [
    {
     "data": {
      "text/plain": [
       "<matplotlib.collections.PathCollection at 0x7fe08229c370>"
      ]
     },
     "execution_count": 3,
     "metadata": {},
     "output_type": "execute_result"
    },
    {
     "data": {
      "image/png": "[encoded data removed]",
      "text/plain": [
       "<Figure size 432x288 with 1 Axes>"
      ]
     },
     "metadata": {
      "needs_background": "light"
     },
     "output_type": "display_data"
    }
   ],
   "source": [
    "plt.scatter(X[1, :], y)"
   ]
  },
  {
   "cell_type": "code",
   "execution_count": 4,
   "id": "142f07eb",
   "metadata": {},
   "outputs": [],
   "source": [
    "alpha = 0.01\n",
    "iteration = 1000\n",
    "\n",
    "def gradient_descent(theta, X, y, alpha, iteration):\n",
    "    \n",
    "    loss_history = np.zeros(iteration)\n",
    "    theta_history = np.zeros((iteration, 2))\n",
    "    \n",
    "    m = len(y)\n",
    "    \n",
    "    for i in range(iteration):\n",
    "        y_pred = np.dot(theta, X)\n",
    "        theta = theta - alpha / m * np.dot(y_pred - y, X.T)\n",
    "        loss = 1 / (2 * m) * np.sum(np.square(y_pred - y))\n",
    "        \n",
    "        theta_history[i,:] = theta\n",
    "        loss_history[i] = loss\n",
    "        \n",
    "        if i % 100 == 0:\n",
    "            print('itration:{}'.format(i))\n",
    "            print('theta:{}'.format(theta))\n",
    "            print('loss:{}'.format(loss))\n",
    "        \n",
    "    return theta, loss, theta_history, loss_history"
   ]
  },
  {
   "cell_type": "code",
   "execution_count": 5,
   "id": "d50921f4",
   "metadata": {},
   "outputs": [
    {
     "data": {
      "text/plain": [
       "array([-0.12597867,  1.05150271])"
      ]
     },
     "execution_count": 5,
     "metadata": {},
     "output_type": "execute_result"
    }
   ],
   "source": [
    "theta_init = np.random.randn(2)\n",
    "theta_init"
   ]
  },
  {
   "cell_type": "code",
   "execution_count": 6,
   "id": "6808c262",
   "metadata": {},
   "outputs": [
    {
     "name": "stdout",
     "output_type": "stream",
     "text": [
      "itration:0\n",
      "theta:[-0.06903776  1.08383488]\n",
      "loss:16.377381757218828\n",
      "itration:100\n",
      "theta:[3.07878912 2.8453515 ]\n",
      "loss:1.222856695940475\n",
      "itration:200\n",
      "theta:[3.93460473 3.28399881]\n",
      "loss:0.1460851901124425\n",
      "itration:300\n",
      "theta:[4.17905364 3.37218927]\n",
      "loss:0.0677764049309641\n",
      "itration:400\n",
      "theta:[4.25972518 3.3687534 ]\n",
      "loss:0.06049049009961127\n",
      "itration:500\n",
      "theta:[4.29586298 3.34251312]\n",
      "loss:0.058439787972668945\n",
      "itration:600\n",
      "theta:[4.31927425 3.31170014]\n",
      "loss:0.05693661125708721\n",
      "itration:700\n",
      "theta:[4.33848013 3.28108046]\n",
      "loss:0.055628307231134835\n",
      "itration:800\n",
      "theta:[4.35579801 3.25183962]\n",
      "loss:0.05447193552928144\n",
      "itration:900\n",
      "theta:[4.37189045 3.22421471]\n",
      "loss:0.05344857776926376\n"
     ]
    }
   ],
   "source": [
    "theta, loss, theta_history, loss_history = gradient_descent(theta_init, X, y, alpha, iteration)"
   ]
  },
  {
   "cell_type": "code",
   "execution_count": 7,
   "id": "9ce67d36",
   "metadata": {},
   "outputs": [
    {
     "data": {
      "text/plain": [
       "array([4.38683044, 3.19844739])"
      ]
     },
     "execution_count": 7,
     "metadata": {},
     "output_type": "execute_result"
    }
   ],
   "source": [
    "theta"
   ]
  },
  {
   "cell_type": "code",
   "execution_count": 8,
   "id": "c3c946da",
   "metadata": {},
   "outputs": [
    {
     "data": {
      "text/plain": [
       "0.05255136414406357"
      ]
     },
     "execution_count": 8,
     "metadata": {},
     "output_type": "execute_result"
    }
   ],
   "source": [
    "loss"
   ]
  },
  {
   "cell_type": "code",
   "execution_count": 9,
   "id": "abdc17f2",
   "metadata": {},
   "outputs": [
    {
     "data": {
      "text/plain": [
       "[<matplotlib.lines.Line2D at 0x7fe07a19f070>]"
      ]
     },
     "execution_count": 9,
     "metadata": {},
     "output_type": "execute_result"
    },
    {
     "data": {
      "image/png": "[encoded data removed]",
      "text/plain": [
       "<Figure size 432x288 with 1 Axes>"
      ]
     },
     "metadata": {
      "needs_background": "light"
     },
     "output_type": "display_data"
    }
   ],
   "source": [
    "plt.plot(loss_history)"
   ]
  },
  {
   "cell_type": "code",
   "execution_count": 10,
   "id": "1cf44972",
   "metadata": {},
   "outputs": [
    {
     "data": {
      "text/plain": [
       "[<matplotlib.lines.Line2D at 0x7fe07a0f8c40>,\n",
       " <matplotlib.lines.Line2D at 0x7fe07a0f8ca0>]"
      ]
     },
     "execution_count": 10,
     "metadata": {},
     "output_type": "execute_result"
    },
    {
     "data": {
      "image/png": "[encoded data removed]",
      "text/plain": [
       "<Figure size 432x288 with 1 Axes>"
      ]
     },
     "metadata": {
      "needs_background": "light"
     },
     "output_type": "display_data"
    }
   ],
   "source": [
    "plt.plot(theta_history)"
   ]
  },
  {
   "cell_type": "code",
   "execution_count": 11,
   "id": "e03ccb1f",
   "metadata": {},
   "outputs": [
    {
     "data": {
      "text/plain": [
       "<matplotlib.legend.Legend at 0x7fe07a0df490>"
      ]
     },
     "execution_count": 11,
     "metadata": {},
     "output_type": "execute_result"
    },
    {
     "data": {
      "image/png": "[encoded data removed]",
      "text/plain": [
       "<Figure size 432x288 with 1 Axes>"
      ]
     },
     "metadata": {
      "needs_background": "light"
     },
     "output_type": "display_data"
    }
   ],
   "source": [
    "plt.scatter(X[1, :], y)\n",
    "\n",
    "x = np.linspace(0, 1, 11)\n",
    "plt.plot(x, theta_init[1] * x + theta_init[0], c = 'g', label = 'Initial')\n",
    "plt.plot(x, theta[1] * x + theta[0], c = 'r', label = 'Optimized')\n",
    "plt.legend()"
   ]
  },
  {
   "cell_type": "code",
   "execution_count": null,
   "id": "093091b8",
   "metadata": {},
   "outputs": [],
   "source": []
  }
 ],
 "metadata": {
  "kernelspec": {
   "display_name": "Python [conda env:python3] *",
   "language": "python",
   "name": "conda-env-python3-py"
  },
  "language_info": {
   "codemirror_mode": {
    "name": "ipython",
    "version": 3
   },
   "file_extension": ".py",
   "mimetype": "text/x-python",
   "name": "python",
   "nbconvert_exporter": "python",
   "pygments_lexer": "ipython3",
   "version": "3.9.2"
  }
 },
 "nbformat": 4,
 "nbformat_minor": 5
}
