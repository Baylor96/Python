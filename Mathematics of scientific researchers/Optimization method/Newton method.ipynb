{
 "cells": [
  {
   "cell_type": "code",
   "execution_count": 1,
   "id": "5251ce94",
   "metadata": {},
   "outputs": [],
   "source": [
    "import numpy as np\n",
    "import matplotlib.pyplot as plt"
   ]
  },
  {
   "cell_type": "code",
   "execution_count": 2,
   "id": "24778c3b",
   "metadata": {},
   "outputs": [],
   "source": [
    "X = np.array([np.ones(100), np.random.rand(100)])\n",
    "y = np.dot([4,3], X) + np.random.rand(100) "
   ]
  },
  {
   "cell_type": "code",
   "execution_count": 3,
   "id": "d499d6f3",
   "metadata": {},
   "outputs": [
    {
     "data": {
      "text/plain": [
       "<matplotlib.collections.PathCollection at 0x7fbf8e4813d0>"
      ]
     },
     "execution_count": 3,
     "metadata": {},
     "output_type": "execute_result"
    },
    {
     "data": {
      "image/png": "[encoded data removed]",
      "text/plain": [
       "<Figure size 432x288 with 1 Axes>"
      ]
     },
     "metadata": {
      "needs_background": "light"
     },
     "output_type": "display_data"
    }
   ],
   "source": [
    "plt.scatter(X[1, :], y)"
   ]
  },
  {
   "cell_type": "code",
   "execution_count": 4,
   "id": "bb509c04",
   "metadata": {},
   "outputs": [],
   "source": [
    "iteration = 5\n",
    "\n",
    "def newton_method(theta, X, y, iteration):\n",
    "    \n",
    "    theta_history = np.zeros((iteration, 2))\n",
    "    loss_history = np.zeros(iteration)\n",
    "    \n",
    "    m = len(y)\n",
    "    \n",
    "    for i in range(iteration):\n",
    "        \n",
    "        theta = theta - (np.dot(theta, X) - y).dot(X.T).dot(np.linalg.inv(np.dot(X, X.T)))\n",
    "        loss = 1 / (2*m) * np.sum(np.square(np.dot(theta, X) - y))\n",
    "        \n",
    "        theta_history[i,:] = theta\n",
    "        loss_history[i] = loss\n",
    "        \n",
    "        print('Iteration:{}'.format(i+1))\n",
    "        print('theta:{}'.format(theta))\n",
    "        print('loss:{}'.format(loss))\n",
    "        \n",
    "    return theta, loss, theta_history, loss_history    "
   ]
  },
  {
   "cell_type": "code",
   "execution_count": 5,
   "id": "69a3a4a6",
   "metadata": {},
   "outputs": [],
   "source": [
    "theta_init = np.random.randn(2)"
   ]
  },
  {
   "cell_type": "code",
   "execution_count": 6,
   "id": "1163c732",
   "metadata": {},
   "outputs": [
    {
     "data": {
      "text/plain": [
       "array([0.62019054, 0.1925639 ])"
      ]
     },
     "execution_count": 6,
     "metadata": {},
     "output_type": "execute_result"
    }
   ],
   "source": [
    "theta_init"
   ]
  },
  {
   "cell_type": "code",
   "execution_count": 7,
   "id": "1fae690c",
   "metadata": {},
   "outputs": [
    {
     "name": "stdout",
     "output_type": "stream",
     "text": [
      "Iteration:1\n",
      "theta:[4.52326266 3.11231766]\n",
      "loss:0.033166031753774514\n",
      "Iteration:2\n",
      "theta:[4.52326266 3.11231766]\n",
      "loss:0.03316603175377452\n",
      "Iteration:3\n",
      "theta:[4.52326266 3.11231766]\n",
      "loss:0.03316603175377452\n",
      "Iteration:4\n",
      "theta:[4.52326266 3.11231766]\n",
      "loss:0.03316603175377452\n",
      "Iteration:5\n",
      "theta:[4.52326266 3.11231766]\n",
      "loss:0.03316603175377452\n"
     ]
    }
   ],
   "source": [
    "theta, loss, theta_history, loss_history = newton_method(theta_init, X, y, iteration)"
   ]
  },
  {
   "cell_type": "code",
   "execution_count": 8,
   "id": "b1d39ab1",
   "metadata": {},
   "outputs": [
    {
     "data": {
      "text/plain": [
       "array([4.52326266, 3.11231766])"
      ]
     },
     "execution_count": 8,
     "metadata": {},
     "output_type": "execute_result"
    }
   ],
   "source": [
    "theta"
   ]
  },
  {
   "cell_type": "code",
   "execution_count": 9,
   "id": "9fe80361",
   "metadata": {},
   "outputs": [
    {
     "data": {
      "text/plain": [
       "0.03316603175377452"
      ]
     },
     "execution_count": 9,
     "metadata": {},
     "output_type": "execute_result"
    }
   ],
   "source": [
    "loss"
   ]
  },
  {
   "cell_type": "code",
   "execution_count": 10,
   "id": "78f759dc",
   "metadata": {},
   "outputs": [],
   "source": [
    "theta_newton = np.dot(y, X.T).dot(np.linalg.inv(np.dot(X, X.T)))"
   ]
  },
  {
   "cell_type": "code",
   "execution_count": 11,
   "id": "5f4b7c0b",
   "metadata": {},
   "outputs": [
    {
     "data": {
      "text/plain": [
       "array([4.52326266, 3.11231766])"
      ]
     },
     "execution_count": 11,
     "metadata": {},
     "output_type": "execute_result"
    }
   ],
   "source": [
    "theta_newton"
   ]
  },
  {
   "cell_type": "code",
   "execution_count": 12,
   "id": "5badb6d9",
   "metadata": {},
   "outputs": [
    {
     "data": {
      "text/plain": [
       "[<matplotlib.lines.Line2D at 0x7fbf86384700>,\n",
       " <matplotlib.lines.Line2D at 0x7fbf86384820>]"
      ]
     },
     "execution_count": 12,
     "metadata": {},
     "output_type": "execute_result"
    },
    {
     "data": {
      "image/png": "[encoded data removed]",
      "text/plain": [
       "<Figure size 432x288 with 1 Axes>"
      ]
     },
     "metadata": {
      "needs_background": "light"
     },
     "output_type": "display_data"
    }
   ],
   "source": [
    "plt.plot(theta_history)"
   ]
  },
  {
   "cell_type": "code",
   "execution_count": 13,
   "id": "99003e81",
   "metadata": {},
   "outputs": [
    {
     "data": {
      "text/plain": [
       "[<matplotlib.lines.Line2D at 0x7fbf862f0130>]"
      ]
     },
     "execution_count": 13,
     "metadata": {},
     "output_type": "execute_result"
    },
    {
     "data": {
      "image/png": "[encoded data removed]",
      "text/plain": [
       "<Figure size 432x288 with 1 Axes>"
      ]
     },
     "metadata": {
      "needs_background": "light"
     },
     "output_type": "display_data"
    }
   ],
   "source": [
    "plt.plot(loss_history)"
   ]
  },
  {
   "cell_type": "code",
   "execution_count": 14,
   "id": "36f3532e",
   "metadata": {},
   "outputs": [
    {
     "data": {
      "text/plain": [
       "<matplotlib.legend.Legend at 0x7fbf8625b2e0>"
      ]
     },
     "execution_count": 14,
     "metadata": {},
     "output_type": "execute_result"
    },
    {
     "data": {
      "image/png": "[encoded data removed]",
      "text/plain": [
       "<Figure size 432x288 with 1 Axes>"
      ]
     },
     "metadata": {
      "needs_background": "light"
     },
     "output_type": "display_data"
    }
   ],
   "source": [
    "plt.scatter(X[1, :], y)\n",
    "\n",
    "x = np.linspace(0, 1, 11)\n",
    "plt.plot(x, theta_init[1] * x + theta_init[0], c = 'g', label = 'Initial')\n",
    "plt.plot(x, theta[1] * x + theta[0], c = 'r', label = 'Optimized')\n",
    "plt.legend()"
   ]
  },
  {
   "cell_type": "code",
   "execution_count": null,
   "id": "9b024925",
   "metadata": {},
   "outputs": [],
   "source": []
  }
 ],
 "metadata": {
  "kernelspec": {
   "display_name": "Python [conda env:python3] *",
   "language": "python",
   "name": "conda-env-python3-py"
  },
  "language_info": {
   "codemirror_mode": {
    "name": "ipython",
    "version": 3
   },
   "file_extension": ".py",
   "mimetype": "text/x-python",
   "name": "python",
   "nbconvert_exporter": "python",
   "pygments_lexer": "ipython3",
   "version": "3.9.2"
  }
 },
 "nbformat": 4,
 "nbformat_minor": 5
}
