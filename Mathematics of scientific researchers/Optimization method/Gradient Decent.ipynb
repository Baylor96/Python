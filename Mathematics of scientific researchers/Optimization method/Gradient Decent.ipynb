{
 "cells": [
  {
   "cell_type": "code",
   "execution_count": 1,
   "id": "ca590e3b",
   "metadata": {},
   "outputs": [],
   "source": [
    "import numpy as np\n",
    "import matplotlib.pyplot as plt"
   ]
  },
  {
   "cell_type": "code",
   "execution_count": 2,
   "id": "2be1cd75",
   "metadata": {},
   "outputs": [],
   "source": [
    "X = np.array([np.ones(100), np.random.rand(100)])\n",
    "y = np.dot([4,3], X) + np.random.rand(100)"
   ]
  },
  {
   "cell_type": "code",
   "execution_count": 3,
   "id": "5651e145",
   "metadata": {},
   "outputs": [
    {
     "data": {
      "text/plain": [
       "<matplotlib.collections.PathCollection at 0x7f9451ad3760>"
      ]
     },
     "execution_count": 3,
     "metadata": {},
     "output_type": "execute_result"
    },
    {
     "data": {
      "image/png": "[encoded data removed]",
      "text/plain": [
       "<Figure size 432x288 with 1 Axes>"
      ]
     },
     "metadata": {
      "needs_background": "light"
     },
     "output_type": "display_data"
    }
   ],
   "source": [
    "plt.scatter(X[1, :], y)"
   ]
  },
  {
   "cell_type": "code",
   "execution_count": 4,
   "id": "142f07eb",
   "metadata": {},
   "outputs": [],
   "source": [
    "def gradient_descent(theta, X, y, alpha, iteration):\n",
    "    \n",
    "    loss_history = np.zeros(iteration)\n",
    "    theta_history = np.zeros((iteration, 2))\n",
    "    \n",
    "    m = len(y)\n",
    "    \n",
    "    for i in range(1, iteration+1):\n",
    "        \n",
    "        y_pred = np.dot(theta, X)\n",
    "        theta = theta - alpha / m * np.dot(y_pred - y, X.T)\n",
    "        loss = 1 / (2 * m) * np.sum(np.square(y_pred - y))\n",
    "        \n",
    "        theta_history[i-1,:] = theta\n",
    "        loss_history[i-1] = loss\n",
    "        \n",
    "        if i % 100 == 0:\n",
    "            print('itration:{}'.format(i))\n",
    "            print('theta:{}'.format(theta))\n",
    "            print('loss:{}'.format(loss))\n",
    "        \n",
    "    return theta, loss, theta_history, loss_history"
   ]
  },
  {
   "cell_type": "code",
   "execution_count": 5,
   "id": "d50921f4",
   "metadata": {},
   "outputs": [
    {
     "data": {
      "text/plain": [
       "array([-1.46371014,  0.57940653])"
      ]
     },
     "execution_count": 5,
     "metadata": {},
     "output_type": "execute_result"
    }
   ],
   "source": [
    "alpha = 0.01\n",
    "iteration = 1000\n",
    "theta_init = np.random.randn(2)\n",
    "theta_init"
   ]
  },
  {
   "cell_type": "code",
   "execution_count": 6,
   "id": "6808c262",
   "metadata": {},
   "outputs": [
    {
     "name": "stdout",
     "output_type": "stream",
     "text": [
      "itration:100\n",
      "theta:[2.62038629 2.68550255]\n",
      "loss:2.149737725986717\n",
      "itration:200\n",
      "theta:[3.78285551 3.26168242]\n",
      "loss:0.2114500146829926\n",
      "itration:300\n",
      "theta:[4.11999516 3.40716824]\n",
      "loss:0.0563033516018263\n",
      "itration:400\n",
      "theta:[4.22358657 3.43217334]\n",
      "loss:0.0433271591157243\n",
      "itration:500\n",
      "theta:[4.26071427 3.42419468]\n",
      "loss:0.041755242571831275\n",
      "itration:600\n",
      "theta:[4.27857713 3.40786542]\n",
      "loss:0.04115853665220986\n",
      "itration:700\n",
      "theta:[4.2905306  3.39007769]\n",
      "loss:0.040697814733978294\n",
      "itration:800\n",
      "theta:[4.30037472 3.37271962]\n",
      "loss:0.04029900190428128\n",
      "itration:900\n",
      "theta:[4.30921036 3.35627048]\n",
      "loss:0.03994988239990881\n",
      "itration:1000\n",
      "theta:[4.31737462 3.34081527]\n",
      "loss:0.039643949914050985\n"
     ]
    }
   ],
   "source": [
    "theta, loss, theta_history, loss_history = gradient_descent(theta_init, X, y, alpha, iteration)"
   ]
  },
  {
   "cell_type": "code",
   "execution_count": 7,
   "id": "9ce67d36",
   "metadata": {},
   "outputs": [
    {
     "data": {
      "text/plain": [
       "array([4.31737462, 3.34081527])"
      ]
     },
     "execution_count": 7,
     "metadata": {},
     "output_type": "execute_result"
    }
   ],
   "source": [
    "theta"
   ]
  },
  {
   "cell_type": "code",
   "execution_count": 8,
   "id": "c3c946da",
   "metadata": {},
   "outputs": [
    {
     "data": {
      "text/plain": [
       "0.039643949914050985"
      ]
     },
     "execution_count": 8,
     "metadata": {},
     "output_type": "execute_result"
    }
   ],
   "source": [
    "loss"
   ]
  },
  {
   "cell_type": "code",
   "execution_count": 9,
   "id": "abdc17f2",
   "metadata": {},
   "outputs": [
    {
     "data": {
      "text/plain": [
       "[<matplotlib.lines.Line2D at 0x7f94499d8490>]"
      ]
     },
     "execution_count": 9,
     "metadata": {},
     "output_type": "execute_result"
    },
    {
     "data": {
      "image/png": "[encoded data removed]",
      "text/plain": [
       "<Figure size 432x288 with 1 Axes>"
      ]
     },
     "metadata": {
      "needs_background": "light"
     },
     "output_type": "display_data"
    }
   ],
   "source": [
    "plt.plot(loss_history)"
   ]
  },
  {
   "cell_type": "code",
   "execution_count": 10,
   "id": "1cf44972",
   "metadata": {},
   "outputs": [
    {
     "data": {
      "text/plain": [
       "[<matplotlib.lines.Line2D at 0x7f944992bfd0>,\n",
       " <matplotlib.lines.Line2D at 0x7f9449938070>]"
      ]
     },
     "execution_count": 10,
     "metadata": {},
     "output_type": "execute_result"
    },
    {
     "data": {
      "image/png": "[encoded data removed]",
      "text/plain": [
       "<Figure size 432x288 with 1 Axes>"
      ]
     },
     "metadata": {
      "needs_background": "light"
     },
     "output_type": "display_data"
    }
   ],
   "source": [
    "plt.plot(theta_history)"
   ]
  },
  {
   "cell_type": "code",
   "execution_count": 11,
   "id": "e03ccb1f",
   "metadata": {},
   "outputs": [
    {
     "data": {
      "text/plain": [
       "<matplotlib.legend.Legend at 0x7f944990fd60>"
      ]
     },
     "execution_count": 11,
     "metadata": {},
     "output_type": "execute_result"
    },
    {
     "data": {
      "image/png": "[encoded data removed]",
      "text/plain": [
       "<Figure size 432x288 with 1 Axes>"
      ]
     },
     "metadata": {
      "needs_background": "light"
     },
     "output_type": "display_data"
    }
   ],
   "source": [
    "plt.scatter(X[1, :], y)\n",
    "\n",
    "x = np.linspace(0, 1, 11)\n",
    "\n",
    "plt.plot(x, theta_init[0] + theta_init[1] * x, c = 'g', label = 'Initial')\n",
    "plt.plot(x, theta[0] + theta[1] * x, c = 'r', label = 'Optimized')\n",
    "plt.legend()"
   ]
  },
  {
   "cell_type": "code",
   "execution_count": null,
   "id": "093091b8",
   "metadata": {},
   "outputs": [],
   "source": []
  }
 ],
 "metadata": {
  "kernelspec": {
   "display_name": "Python [conda env:python3] *",
   "language": "python",
   "name": "conda-env-python3-py"
  },
  "language_info": {
   "codemirror_mode": {
    "name": "ipython",
    "version": 3
   },
   "file_extension": ".py",
   "mimetype": "text/x-python",
   "name": "python",
   "nbconvert_exporter": "python",
   "pygments_lexer": "ipython3",
   "version": "3.9.2"
  }
 },
 "nbformat": 4,
 "nbformat_minor": 5
}
