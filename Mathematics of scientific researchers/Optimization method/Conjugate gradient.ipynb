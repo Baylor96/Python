{
 "cells": [
  {
   "cell_type": "code",
   "execution_count": 1,
   "id": "fdcfa85d",
   "metadata": {},
   "outputs": [],
   "source": [
    "import numpy as np"
   ]
  },
  {
   "cell_type": "code",
   "execution_count": null,
   "id": "3003b88a",
   "metadata": {},
   "outputs": [],
   "source": [
    "def conjugate_gradient(A, b):\n",
    "    \n",
    "    n = b.shape[0]\n",
    "    \n",
    "    x0 = np.random.rand(b.shape[0])\n",
    "    p0 = b - np.dot(A, x0)\n",
    "    r0 = p0\n",
    "    alpha0 = np.dot(p0.T, r0) / p0.T.dot(A).dot(p0)\n",
    "    \n",
    "    x_history = []\n",
    "    p_history = []\n",
    "    r_history = []\n",
    "    alpha_history = []\n",
    "    \n",
    "    x_history.append(x0)\n",
    "    p_history.append(p0)\n",
    "    r_history.append(r0)\n",
    "    alpha_history.append(alpha0)\n",
    "    \n",
    "    for i in range(n):\n",
    "        \n",
    "        r = r_history[i] - alpha_history[i].dot(A).dot(p_history[i])\n",
    "        r_history.append(r)\n",
    "        beta = \n",
    "    \n",
    "    "
   ]
  }
 ],
 "metadata": {
  "kernelspec": {
   "display_name": "Python [conda env:python3] *",
   "language": "python",
   "name": "conda-env-python3-py"
  },
  "language_info": {
   "codemirror_mode": {
    "name": "ipython",
    "version": 3
   },
   "file_extension": ".py",
   "mimetype": "text/x-python",
   "name": "python",
   "nbconvert_exporter": "python",
   "pygments_lexer": "ipython3",
   "version": "3.9.2"
  }
 },
 "nbformat": 4,
 "nbformat_minor": 5
}
