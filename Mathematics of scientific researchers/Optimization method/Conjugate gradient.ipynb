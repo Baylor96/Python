{
 "cells": [
  {
   "cell_type": "code",
   "execution_count": 1,
   "id": "fdcfa85d",
   "metadata": {},
   "outputs": [],
   "source": [
    "import numpy as np"
   ]
  },
  {
   "cell_type": "code",
   "execution_count": 2,
   "id": "3003b88a",
   "metadata": {},
   "outputs": [],
   "source": [
    "def conjugate_gradient(A, b):\n",
    "    \n",
    "    n = b.shape[0]\n",
    "    \n",
    "#     x0 = np.array([2,1])\n",
    "#     x0 = np.random.rand(b.shape[0])\n",
    "    \n",
    "    x0 = np.array(([2],[1]))\n",
    "#     x0 = np.random.rand(b.shape[0],1)\n",
    "    \n",
    "    r0 = b - np.dot(A, x0)\n",
    "    p0 = r0\n",
    "    \n",
    "    x_history = []\n",
    "    p_history = []\n",
    "    r_history = []\n",
    "    alpha_history = []\n",
    "    \n",
    "    x_history.append(x0)\n",
    "    p_history.append(p0)\n",
    "    r_history.append(r0)\n",
    "    \n",
    "    for i in range(n):\n",
    "        \n",
    "        alpha = np.dot(p_history[i].T, r_history[i]) / p_history[i].T.dot(A).dot(p_history[i])\n",
    "        r = r_history[i] - alpha * A.dot(p_history[i])\n",
    "        beta = np.dot(r.T, r) / np.dot(r_history[i].T, r_history[i])\n",
    "        p = r + beta * p_history[i]\n",
    "        x = x_history[i] + alpha * p_history[i]\n",
    "        \n",
    "        r_history.append(r)\n",
    "        alpha_history.append(alpha)\n",
    "        p_history.append(p)\n",
    "        x_history.append(x)\n",
    "        \n",
    "    return x_history"
   ]
  },
  {
   "cell_type": "code",
   "execution_count": 3,
   "id": "69f46638",
   "metadata": {},
   "outputs": [],
   "source": [
    "A = np.array(([4,1],[1,3]))\n",
    "b = np.array(([1,2]))\n",
    "c = np.array(([1],[2]))"
   ]
  },
  {
   "cell_type": "code",
   "execution_count": 4,
   "id": "33f46227",
   "metadata": {},
   "outputs": [
    {
     "data": {
      "text/plain": [
       "array([0.09090909, 0.63636364])"
      ]
     },
     "execution_count": 4,
     "metadata": {},
     "output_type": "execute_result"
    }
   ],
   "source": [
    "np.linalg.inv(A).dot(b)"
   ]
  },
  {
   "cell_type": "code",
   "execution_count": 5,
   "id": "7241aaad",
   "metadata": {},
   "outputs": [
    {
     "data": {
      "text/plain": [
       "array([[0.09090909],\n",
       "       [0.63636364]])"
      ]
     },
     "execution_count": 5,
     "metadata": {},
     "output_type": "execute_result"
    }
   ],
   "source": [
    "np.linalg.inv(A).dot(c)"
   ]
  },
  {
   "cell_type": "code",
   "execution_count": 6,
   "id": "12198309",
   "metadata": {},
   "outputs": [
    {
     "data": {
      "text/plain": [
       "[array([[2],\n",
       "        [1]]),\n",
       " array([[0.26086957, 0.47435897],\n",
       "        [0.12820513, 0.34339623]]),\n",
       " array([[0.18060662, 0.36213535],\n",
       "        [0.27445501, 0.54796513]])]"
      ]
     },
     "execution_count": 6,
     "metadata": {},
     "output_type": "execute_result"
    }
   ],
   "source": [
    "conjugate_gradient(A, b)"
   ]
  },
  {
   "cell_type": "code",
   "execution_count": 7,
   "id": "b00c30e7",
   "metadata": {},
   "outputs": [
    {
     "data": {
      "text/plain": [
       "[array([[2],\n",
       "        [1]]),\n",
       " array([[0.23564955],\n",
       "        [0.33836858]]),\n",
       " array([[0.09090909],\n",
       "        [0.63636364]])]"
      ]
     },
     "execution_count": 7,
     "metadata": {},
     "output_type": "execute_result"
    }
   ],
   "source": [
    "conjugate_gradient(A, c)"
   ]
  },
  {
   "cell_type": "code",
   "execution_count": null,
   "id": "3ce16c9f",
   "metadata": {},
   "outputs": [],
   "source": []
  }
 ],
 "metadata": {
  "kernelspec": {
   "display_name": "Python [conda env:python3] *",
   "language": "python",
   "name": "conda-env-python3-py"
  },
  "language_info": {
   "codemirror_mode": {
    "name": "ipython",
    "version": 3
   },
   "file_extension": ".py",
   "mimetype": "text/x-python",
   "name": "python",
   "nbconvert_exporter": "python",
   "pygments_lexer": "ipython3",
   "version": "3.9.2"
  }
 },
 "nbformat": 4,
 "nbformat_minor": 5
}
