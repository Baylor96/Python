{
 "cells": [
  {
   "cell_type": "code",
   "execution_count": 1,
   "id": "824b5306",
   "metadata": {},
   "outputs": [],
   "source": [
    "import numpy as np"
   ]
  },
  {
   "cell_type": "code",
   "execution_count": 2,
   "id": "e81fb15f",
   "metadata": {},
   "outputs": [],
   "source": [
    "H = np.array([[0,   0, 1/3, 0],\n",
    "              [1/2, 0, 1/3, 0],\n",
    "              [1/2, 0, 0,   1],\n",
    "              [0,   1, 1/3, 0]])"
   ]
  },
  {
   "cell_type": "code",
   "execution_count": 3,
   "id": "d6215394",
   "metadata": {},
   "outputs": [],
   "source": [
    "PR0=np.array([1/4,1/4,1/4,1/4]).reshape(-1,1)"
   ]
  },
  {
   "cell_type": "code",
   "execution_count": 4,
   "id": "6dddaf03",
   "metadata": {},
   "outputs": [
    {
     "data": {
      "text/plain": [
       "array([[0.08333333],\n",
       "       [0.20833333],\n",
       "       [0.375     ],\n",
       "       [0.33333333]])"
      ]
     },
     "execution_count": 4,
     "metadata": {},
     "output_type": "execute_result"
    }
   ],
   "source": [
    "np.dot(H, PR0)"
   ]
  },
  {
   "cell_type": "code",
   "execution_count": 5,
   "id": "74062eee",
   "metadata": {},
   "outputs": [
    {
     "data": {
      "text/plain": [
       "array([ 1.        +0.j        , -0.62653829+0.j        ,\n",
       "       -0.18673085+0.48077388j, -0.18673085-0.48077388j])"
      ]
     },
     "execution_count": 5,
     "metadata": {},
     "output_type": "execute_result"
    }
   ],
   "source": [
    "eigen_value, eigen_vector = np.linalg.eig(H)\n",
    "eigen_value"
   ]
  },
  {
   "cell_type": "code",
   "execution_count": 6,
   "id": "a7a034fb",
   "metadata": {},
   "outputs": [
    {
     "data": {
      "text/plain": [
       "array([[-0.23249528+0.j        ,  0.44574718+0.j        ,\n",
       "         0.14649706+0.37718437j,  0.14649706-0.37718437j],\n",
       "       [-0.34874292+0.j        ,  0.09002496+0.j        ,\n",
       "         0.43592932+0.11241445j,  0.43592932-0.11241445j],\n",
       "       [-0.69748583+0.j        , -0.83783303+0.j        ,\n",
       "        -0.62608774+0.j        , -0.62608774-0.j        ],\n",
       "       [-0.58123819+0.j        ,  0.30206089+0.j        ,\n",
       "         0.04366137-0.48959882j,  0.04366137+0.48959882j]])"
      ]
     },
     "execution_count": 6,
     "metadata": {},
     "output_type": "execute_result"
    }
   ],
   "source": [
    "eigen_vector"
   ]
  },
  {
   "cell_type": "code",
   "execution_count": 7,
   "id": "b5e7bd1b",
   "metadata": {},
   "outputs": [
    {
     "data": {
      "text/plain": [
       "array([0.23249528, 0.34874292, 0.69748583, 0.58123819])"
      ]
     },
     "execution_count": 7,
     "metadata": {},
     "output_type": "execute_result"
    }
   ],
   "source": [
    "np.abs(np.real(eigen_vector[:,0]))"
   ]
  },
  {
   "cell_type": "code",
   "execution_count": 8,
   "id": "3ab88721",
   "metadata": {},
   "outputs": [],
   "source": [
    "theta = np.array([[-1,2,2],\n",
    "                  [ 2,1,0],\n",
    "                  [ 2,0,1]])"
   ]
  },
  {
   "cell_type": "code",
   "execution_count": 9,
   "id": "b631e365",
   "metadata": {},
   "outputs": [],
   "source": [
    "eig_val, eig_vec = np.linalg.eig(theta)"
   ]
  },
  {
   "cell_type": "code",
   "execution_count": 10,
   "id": "3750a1ff",
   "metadata": {},
   "outputs": [
    {
     "data": {
      "text/plain": [
       "array([-3.,  3.,  1.])"
      ]
     },
     "execution_count": 10,
     "metadata": {},
     "output_type": "execute_result"
    }
   ],
   "source": [
    "eig_val"
   ]
  },
  {
   "cell_type": "code",
   "execution_count": 11,
   "id": "2df93723",
   "metadata": {},
   "outputs": [
    {
     "data": {
      "text/plain": [
       "array([[ 8.16496581e-01, -5.77350269e-01, -7.85046229e-17],\n",
       "       [-4.08248290e-01, -5.77350269e-01, -7.07106781e-01],\n",
       "       [-4.08248290e-01, -5.77350269e-01,  7.07106781e-01]])"
      ]
     },
     "execution_count": 11,
     "metadata": {},
     "output_type": "execute_result"
    }
   ],
   "source": [
    "eig_vec"
   ]
  },
  {
   "cell_type": "code",
   "execution_count": 12,
   "id": "f30cfdb2",
   "metadata": {},
   "outputs": [],
   "source": [
    "H = np.array([[0.65,0.28,0.07],\n",
    "             [0.15,0.67,0.18],\n",
    "             [0.12,0.36,0.52]])\n",
    "d0 = np.array([[0.21,0.68,0.11]])"
   ]
  },
  {
   "cell_type": "code",
   "execution_count": 13,
   "id": "5e29ed4e",
   "metadata": {},
   "outputs": [
    {
     "data": {
      "text/plain": [
       "(array([1.        , 0.51848858, 0.32151142]),\n",
       " array([[-0.57735027, -0.83998777,  0.28556198],\n",
       "        [-0.57735027,  0.27803966, -0.53396905],\n",
       "        [-0.57735027,  0.46595546,  0.79582121]]))"
      ]
     },
     "execution_count": 13,
     "metadata": {},
     "output_type": "execute_result"
    }
   ],
   "source": [
    "np.linalg.eig(H)"
   ]
  },
  {
   "cell_type": "code",
   "execution_count": 14,
   "id": "ca5e8801",
   "metadata": {},
   "outputs": [
    {
     "name": "stdout",
     "output_type": "stream",
     "text": [
      "1:[[0.2517 0.554  0.1943]]\n",
      "2:[[0.270021 0.511604 0.218375]]\n",
      "3:[[0.278459 0.496996 0.224545]]\n",
      "4:[[0.282493 0.491792 0.225715]]\n",
      "5:[[0.284475 0.489856 0.225669]]\n",
      "6:[[0.285468 0.489097 0.225435]]\n",
      "7:[[0.285971 0.488783 0.225247]]\n",
      "8:[[0.286228 0.488645 0.225127]]\n",
      "9:[[0.28636  0.488582 0.225058]]\n",
      "10:[[0.286428 0.488552 0.22502 ]]\n"
     ]
    }
   ],
   "source": [
    "di = d0\n",
    "for i in range(1, 11):\n",
    "    dn = np.dot(di, H)\n",
    "    di = dn\n",
    "    print('{}:{}'.format(i, np.round(di,6)))"
   ]
  },
  {
   "cell_type": "code",
   "execution_count": 15,
   "id": "8cc56d1f",
   "metadata": {},
   "outputs": [],
   "source": [
    "P = np.array([[0.5,0.5],\n",
    "             [0.1,0.9]])\n",
    "p0 = np.array([100,0])"
   ]
  },
  {
   "cell_type": "code",
   "execution_count": 16,
   "id": "006667e6",
   "metadata": {},
   "outputs": [
    {
     "data": {
      "text/plain": [
       "(array([0.4, 1. ]),\n",
       " array([[-0.98058068, -0.70710678],\n",
       "        [ 0.19611614, -0.70710678]]))"
      ]
     },
     "execution_count": 16,
     "metadata": {},
     "output_type": "execute_result"
    }
   ],
   "source": [
    "np.linalg.eig(P)"
   ]
  },
  {
   "cell_type": "code",
   "execution_count": 17,
   "id": "ff8bf5a1",
   "metadata": {},
   "outputs": [
    {
     "name": "stdout",
     "output_type": "stream",
     "text": [
      "1:[100   0] 50.0 0.0\n",
      "2:[50. 50.] 25.0 20.0\n",
      "3:[30. 70.] 15.0 28.0\n",
      "4:[22. 78.] 11.0 31.0\n",
      "5:[18.8 81.2] 9.4 32.0\n",
      "6:[17.52 82.48] 8.76 33.0\n",
      "7:[17.008 82.992] 8.504 33.0\n",
      "8:[16.8032 83.1968] 8.4016 33.0\n",
      "9:[16.72128 83.27872] 8.3606 33.0\n",
      "10:[16.688512 83.311488] 8.3443 33.0\n"
     ]
    }
   ],
   "source": [
    "pi = p0\n",
    "for i in range(1, 11):\n",
    "    pn = np.dot(pi, P)\n",
    "    print('{}:{} {} {}'.format(i, np.round(pi,6), np.round(pi[0]*0.5,4), np.round(pi[1]*0.4)))\n",
    "    pi = pn"
   ]
  },
  {
   "cell_type": "code",
   "execution_count": null,
   "id": "39d17237",
   "metadata": {},
   "outputs": [],
   "source": []
  },
  {
   "cell_type": "code",
   "execution_count": null,
   "id": "6edeef5d",
   "metadata": {},
   "outputs": [],
   "source": []
  }
 ],
 "metadata": {
  "kernelspec": {
   "display_name": "Python [conda env:py3] *",
   "language": "python",
   "name": "conda-env-py3-py"
  },
  "language_info": {
   "codemirror_mode": {
    "name": "ipython",
    "version": 3
   },
   "file_extension": ".py",
   "mimetype": "text/x-python",
   "name": "python",
   "nbconvert_exporter": "python",
   "pygments_lexer": "ipython3",
   "version": "3.9.2"
  }
 },
 "nbformat": 4,
 "nbformat_minor": 5
}
