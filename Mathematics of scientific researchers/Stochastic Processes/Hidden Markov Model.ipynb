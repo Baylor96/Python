{
 "cells": [
  {
   "cell_type": "code",
   "execution_count": 1,
   "metadata": {},
   "outputs": [],
   "source": [
    "import numpy as np\n",
    "import pandas as pd\n",
    "import networkx as nx\n",
    "import matplotlib.pyplot as plt\n",
    "import os\n",
    "import graphviz\n",
    "%matplotlib inline"
   ]
  },
  {
   "cell_type": "code",
   "execution_count": 2,
   "metadata": {},
   "outputs": [],
   "source": [
    "W = np.array([[0.7,0.3],\n",
    "            [0.4,0.6]])\n",
    "w0 = np.array([0.6,0.4])"
   ]
  },
  {
   "cell_type": "code",
   "execution_count": 3,
   "metadata": {},
   "outputs": [
    {
     "data": {
      "text/plain": [
       "(array([1. , 0.3]),\n",
       " array([[ 0.70710678, -0.6       ],\n",
       "        [ 0.70710678,  0.8       ]]))"
      ]
     },
     "execution_count": 3,
     "metadata": {},
     "output_type": "execute_result"
    }
   ],
   "source": [
    "np.linalg.eig(W)"
   ]
  },
  {
   "cell_type": "code",
   "execution_count": 4,
   "metadata": {},
   "outputs": [
    {
     "name": "stdout",
     "output_type": "stream",
     "text": [
      "1:[0.58 0.42]\n",
      "2:[0.574 0.426]\n",
      "3:[0.5722 0.4278]\n",
      "4:[0.57166 0.42834]\n",
      "5:[0.571498 0.428502]\n",
      "6:[0.571449 0.428551]\n",
      "7:[0.571435 0.428565]\n",
      "8:[0.57143 0.42857]\n",
      "9:[0.571429 0.428571]\n",
      "10:[0.571429 0.428571]\n"
     ]
    }
   ],
   "source": [
    "wi = w0\n",
    "for i in range(1,11):\n",
    "    wn = np.dot(wi, W)\n",
    "    print('{}:{}'.format(i, np.round(wn, 6)))\n",
    "    wi = wn"
   ]
  },
  {
   "cell_type": "markdown",
   "metadata": {},
   "source": [
    "## <center> 1. 构建状态空间"
   ]
  },
  {
   "cell_type": "code",
   "execution_count": 5,
   "metadata": {},
   "outputs": [],
   "source": [
    "states = ['outing', 'shopping', 'home']"
   ]
  },
  {
   "cell_type": "code",
   "execution_count": 6,
   "metadata": {},
   "outputs": [],
   "source": [
    "hidden_states = ['rainy', 'sunny']\n",
    "p0 = [0.6, 0.4]"
   ]
  },
  {
   "cell_type": "code",
   "execution_count": 7,
   "metadata": {},
   "outputs": [],
   "source": [
    "state_space = pd.Series(p0, index=hidden_states, name='hidden_states')"
   ]
  },
  {
   "cell_type": "code",
   "execution_count": 8,
   "metadata": {},
   "outputs": [
    {
     "data": {
      "text/plain": [
       "rainy    0.6\n",
       "sunny    0.4\n",
       "Name: hidden_states, dtype: float64"
      ]
     },
     "execution_count": 8,
     "metadata": {},
     "output_type": "execute_result"
    }
   ],
   "source": [
    "state_space"
   ]
  },
  {
   "cell_type": "code",
   "execution_count": 9,
   "metadata": {},
   "outputs": [],
   "source": [
    "w_df = pd.DataFrame(columns=hidden_states, index=hidden_states)\n",
    "w_df.loc[hidden_states[0]] = [0.7, 0.3]\n",
    "w_df.loc[hidden_states[1]] = [0.4, 0.6]"
   ]
  },
  {
   "cell_type": "code",
   "execution_count": 10,
   "metadata": {},
   "outputs": [],
   "source": [
    "w = w_df.values"
   ]
  },
  {
   "cell_type": "code",
   "execution_count": 11,
   "metadata": {},
   "outputs": [
    {
     "data": {
      "text/html": [
       "<div>\n",
       "<style scoped>\n",
       "    .dataframe tbody tr th:only-of-type {\n",
       "        vertical-align: middle;\n",
       "    }\n",
       "\n",
       "    .dataframe tbody tr th {\n",
       "        vertical-align: top;\n",
       "    }\n",
       "\n",
       "    .dataframe thead th {\n",
       "        text-align: right;\n",
       "    }\n",
       "</style>\n",
       "<table border=\"1\" class=\"dataframe\">\n",
       "  <thead>\n",
       "    <tr style=\"text-align: right;\">\n",
       "      <th></th>\n",
       "      <th>rainy</th>\n",
       "      <th>sunny</th>\n",
       "    </tr>\n",
       "  </thead>\n",
       "  <tbody>\n",
       "    <tr>\n",
       "      <th>rainy</th>\n",
       "      <td>0.7</td>\n",
       "      <td>0.3</td>\n",
       "    </tr>\n",
       "    <tr>\n",
       "      <th>sunny</th>\n",
       "      <td>0.4</td>\n",
       "      <td>0.6</td>\n",
       "    </tr>\n",
       "  </tbody>\n",
       "</table>\n",
       "</div>"
      ],
      "text/plain": [
       "      rainy sunny\n",
       "rainy   0.7   0.3\n",
       "sunny   0.4   0.6"
      ]
     },
     "execution_count": 11,
     "metadata": {},
     "output_type": "execute_result"
    }
   ],
   "source": [
    "w_df"
   ]
  },
  {
   "cell_type": "code",
   "execution_count": 12,
   "metadata": {},
   "outputs": [],
   "source": [
    "s_df = pd.DataFrame(columns=states, index=hidden_states)\n",
    "s_df.loc[hidden_states[0]] = [0.1, 0.4, 0.5]\n",
    "s_df.loc[hidden_states[1]] = [0.6, 0.3, 0.1]"
   ]
  },
  {
   "cell_type": "code",
   "execution_count": 13,
   "metadata": {},
   "outputs": [],
   "source": [
    "s = s_df.values"
   ]
  },
  {
   "cell_type": "code",
   "execution_count": 14,
   "metadata": {},
   "outputs": [
    {
     "data": {
      "text/html": [
       "<div>\n",
       "<style scoped>\n",
       "    .dataframe tbody tr th:only-of-type {\n",
       "        vertical-align: middle;\n",
       "    }\n",
       "\n",
       "    .dataframe tbody tr th {\n",
       "        vertical-align: top;\n",
       "    }\n",
       "\n",
       "    .dataframe thead th {\n",
       "        text-align: right;\n",
       "    }\n",
       "</style>\n",
       "<table border=\"1\" class=\"dataframe\">\n",
       "  <thead>\n",
       "    <tr style=\"text-align: right;\">\n",
       "      <th></th>\n",
       "      <th>outing</th>\n",
       "      <th>shopping</th>\n",
       "      <th>home</th>\n",
       "    </tr>\n",
       "  </thead>\n",
       "  <tbody>\n",
       "    <tr>\n",
       "      <th>rainy</th>\n",
       "      <td>0.1</td>\n",
       "      <td>0.4</td>\n",
       "      <td>0.5</td>\n",
       "    </tr>\n",
       "    <tr>\n",
       "      <th>sunny</th>\n",
       "      <td>0.6</td>\n",
       "      <td>0.3</td>\n",
       "      <td>0.1</td>\n",
       "    </tr>\n",
       "  </tbody>\n",
       "</table>\n",
       "</div>"
      ],
      "text/plain": [
       "      outing shopping home\n",
       "rainy    0.1      0.4  0.5\n",
       "sunny    0.6      0.3  0.1"
      ]
     },
     "execution_count": 14,
     "metadata": {},
     "output_type": "execute_result"
    }
   ],
   "source": [
    "s_df"
   ]
  },
  {
   "cell_type": "markdown",
   "metadata": {},
   "source": [
    "## <center> 2. 图模型"
   ]
  },
  {
   "cell_type": "code",
   "execution_count": 15,
   "metadata": {},
   "outputs": [],
   "source": [
    "def get_markov_edges(H):\n",
    "    edges = {}\n",
    "    for col in H.columns:\n",
    "        for idx in H.index:\n",
    "            edges[(idx, col)] = H.loc[idx, col]\n",
    "    \n",
    "    return edges"
   ]
  },
  {
   "cell_type": "code",
   "execution_count": 16,
   "metadata": {},
   "outputs": [],
   "source": [
    "hidden_edges = get_markov_edges(w_df)\n",
    "emit_edges = get_markov_edges(s_df)"
   ]
  },
  {
   "cell_type": "code",
   "execution_count": 17,
   "metadata": {},
   "outputs": [
    {
     "data": {
      "text/plain": [
       "{('rainy', 'rainy'): 0.7,\n",
       " ('sunny', 'rainy'): 0.4,\n",
       " ('rainy', 'sunny'): 0.3,\n",
       " ('sunny', 'sunny'): 0.6}"
      ]
     },
     "execution_count": 17,
     "metadata": {},
     "output_type": "execute_result"
    }
   ],
   "source": [
    "hidden_edges"
   ]
  },
  {
   "cell_type": "code",
   "execution_count": 18,
   "metadata": {},
   "outputs": [
    {
     "data": {
      "text/plain": [
       "{('rainy', 'outing'): 0.1,\n",
       " ('sunny', 'outing'): 0.6,\n",
       " ('rainy', 'shopping'): 0.4,\n",
       " ('sunny', 'shopping'): 0.3,\n",
       " ('rainy', 'home'): 0.5,\n",
       " ('sunny', 'home'): 0.1}"
      ]
     },
     "execution_count": 18,
     "metadata": {},
     "output_type": "execute_result"
    }
   ],
   "source": [
    "emit_edges"
   ]
  },
  {
   "cell_type": "code",
   "execution_count": 19,
   "metadata": {},
   "outputs": [],
   "source": [
    "G = nx.MultiDiGraph()"
   ]
  },
  {
   "cell_type": "code",
   "execution_count": 20,
   "metadata": {},
   "outputs": [
    {
     "data": {
      "text/plain": [
       "NodeView(('rainy', 'sunny'))"
      ]
     },
     "execution_count": 20,
     "metadata": {},
     "output_type": "execute_result"
    }
   ],
   "source": [
    "G.add_nodes_from(hidden_states)\n",
    "G.nodes()"
   ]
  },
  {
   "cell_type": "code",
   "execution_count": 21,
   "metadata": {},
   "outputs": [],
   "source": [
    "for k,v in hidden_edges.items():\n",
    "    tmp_ori, tmp_dst = k[0], k[1]\n",
    "    G.add_edge(tmp_ori, tmp_dst, weight=v, label=v)"
   ]
  },
  {
   "cell_type": "code",
   "execution_count": 22,
   "metadata": {},
   "outputs": [],
   "source": [
    "for k,v in emit_edges.items():\n",
    "    tmp_ori, tmp_dst = k[0], k[1]\n",
    "    G.add_edge(tmp_ori, tmp_dst, weight=v, label=v)"
   ]
  },
  {
   "cell_type": "code",
   "execution_count": 23,
   "metadata": {},
   "outputs": [
    {
     "name": "stdout",
     "output_type": "stream",
     "text": [
      "[('rainy', 'rainy', {'weight': 0.7, 'label': 0.7}), ('rainy', 'sunny', {'weight': 0.3, 'label': 0.3}), ('rainy', 'outing', {'weight': 0.1, 'label': 0.1}), ('rainy', 'shopping', {'weight': 0.4, 'label': 0.4}), ('rainy', 'home', {'weight': 0.5, 'label': 0.5}), ('sunny', 'rainy', {'weight': 0.4, 'label': 0.4}), ('sunny', 'sunny', {'weight': 0.6, 'label': 0.6}), ('sunny', 'outing', {'weight': 0.6, 'label': 0.6}), ('sunny', 'shopping', {'weight': 0.3, 'label': 0.3}), ('sunny', 'home', {'weight': 0.1, 'label': 0.1})]\n"
     ]
    }
   ],
   "source": [
    "print(G.edges(data=True))"
   ]
  },
  {
   "cell_type": "code",
   "execution_count": 24,
   "metadata": {},
   "outputs": [
    {
     "data": {
      "text/plain": [
       "{('rainy', 'rainy'): 0.7,\n",
       " ('rainy', 'sunny'): 0.3,\n",
       " ('rainy', 'outing'): 0.1,\n",
       " ('rainy', 'shopping'): 0.4,\n",
       " ('rainy', 'home'): 0.5,\n",
       " ('sunny', 'rainy'): 0.4,\n",
       " ('sunny', 'sunny'): 0.6,\n",
       " ('sunny', 'outing'): 0.6,\n",
       " ('sunny', 'shopping'): 0.3,\n",
       " ('sunny', 'home'): 0.1}"
      ]
     },
     "execution_count": 24,
     "metadata": {},
     "output_type": "execute_result"
    }
   ],
   "source": [
    "edge_labels = {(n1,n2):d['label'] for n1,n2,d in G.edges(data=True)}\n",
    "'''\n",
    "edge_labels = {}\n",
    "\n",
    "for n1,n2,d in G.edges(data=True):\n",
    "    edge_labels.update({(n1,n2):d['label']})\n",
    "'''\n",
    "edge_labels"
   ]
  },
  {
   "cell_type": "code",
   "execution_count": 25,
   "metadata": {},
   "outputs": [
    {
     "data": {
      "image/png": "[encoded data removed]",
      "text/plain": [
       "<Figure size 432x288 with 1 Axes>"
      ]
     },
     "metadata": {},
     "output_type": "display_data"
    }
   ],
   "source": [
    "pos = nx.drawing.nx_pydot.graphviz_layout(G, prog='dot')\n",
    "nx.draw_networkx(G, pos)\n",
    "nx.draw_networkx_edge_labels(G , pos, edge_labels=edge_labels)\n",
    "nx.drawing.nx_pydot.write_dot(G, 'rainy_sunny_markov.dot')"
   ]
  },
  {
   "cell_type": "code",
   "execution_count": 26,
   "metadata": {},
   "outputs": [
    {
     "data": {
      "text/plain": [
       "'rainy_sunny.pdf'"
      ]
     },
     "execution_count": 26,
     "metadata": {},
     "output_type": "execute_result"
    }
   ],
   "source": [
    "dot_path = os.path.join(os.path.abspath(''),'rainy_sunny_markov.dot')\n",
    "\n",
    "with open(dot_path) as f:\n",
    "    dot_graph = f.read()\n",
    "    \n",
    "graph = graphviz.Source(dot_graph)\n",
    "graph.view('rainy_sunny')"
   ]
  },
  {
   "cell_type": "markdown",
   "metadata": {},
   "source": [
    "## <center> 3. Viterbi Algorithm"
   ]
  },
  {
   "cell_type": "code",
   "execution_count": 27,
   "metadata": {},
   "outputs": [],
   "source": [
    "state_map = {0:'rainy', 1:'sunny'}\n",
    "obs_map = {'outing':0, 'shopping':1, 'home':2}\n",
    "obs = np.array([1,1,2,1,0,1,2,1,0,2,2,0,1,0,1])"
   ]
  },
  {
   "cell_type": "code",
   "execution_count": 28,
   "metadata": {},
   "outputs": [
    {
     "data": {
      "text/plain": [
       "{0: 'outing', 1: 'shopping', 2: 'home'}"
      ]
     },
     "execution_count": 28,
     "metadata": {},
     "output_type": "execute_result"
    }
   ],
   "source": [
    "inv_obs_map = dict((v,k) for k,v in obs_map.items())\n",
    "'''\n",
    "inv_obs_map = {}\n",
    "\n",
    "for k,v in obs_map.items():\n",
    "    inv_obs_map.update({(v,k)})\n",
    "'''\n",
    "inv_obs_map"
   ]
  },
  {
   "cell_type": "code",
   "execution_count": 29,
   "metadata": {},
   "outputs": [
    {
     "data": {
      "text/plain": [
       "['shopping',\n",
       " 'shopping',\n",
       " 'home',\n",
       " 'shopping',\n",
       " 'outing',\n",
       " 'shopping',\n",
       " 'home',\n",
       " 'shopping',\n",
       " 'outing',\n",
       " 'home',\n",
       " 'home',\n",
       " 'outing',\n",
       " 'shopping',\n",
       " 'outing',\n",
       " 'shopping']"
      ]
     },
     "execution_count": 29,
     "metadata": {},
     "output_type": "execute_result"
    }
   ],
   "source": [
    "obs_seq = [inv_obs_map[v] for v in list(obs)]\n",
    "'''\n",
    "obs_seq = []\n",
    "\n",
    "for v in list(obs):\n",
    "    obs_seq.append(inv_obs_map[v])\n",
    "'''\n",
    "obs_seq"
   ]
  },
  {
   "cell_type": "code",
   "execution_count": 30,
   "metadata": {},
   "outputs": [
    {
     "name": "stdout",
     "output_type": "stream",
     "text": [
      "   Obs_code   Obs_seq\n",
      "0         1  shopping\n",
      "1         1  shopping\n",
      "2         2      home\n",
      "3         1  shopping\n",
      "4         0    outing\n",
      "5         1  shopping\n",
      "6         2      home\n",
      "7         1  shopping\n",
      "8         0    outing\n",
      "9         2      home\n",
      "10        2      home\n",
      "11        0    outing\n",
      "12        1  shopping\n",
      "13        0    outing\n",
      "14        1  shopping\n"
     ]
    }
   ],
   "source": [
    "print(pd.DataFrame(np.column_stack([obs, obs_seq]), columns=['Obs_code', 'Obs_seq']))"
   ]
  },
  {
   "cell_type": "code",
   "execution_count": 31,
   "metadata": {},
   "outputs": [],
   "source": [
    "def viterbi(p0, a, b, obs):\n",
    "    \n",
    "    nStates = np.shape(b)[0]\n",
    "    T = np.shape(obs)[0]\n",
    "    \n",
    "    path = np.zeros(T)\n",
    "    delta = np.zeros((nStates, T))\n",
    "    phi = np.zeros((nStates, T))\n",
    "    \n",
    "    delta[:,0] = p0 * b[:, obs[0]]\n",
    "    phi[:,0] = 0\n",
    "       \n",
    "    print('\\nStart Walk Forward\\n')\n",
    "    \n",
    "    for t in range(1, T):\n",
    "        for s in range(nStates):\n",
    "            delta[s, t] = np.max(delta[:, t-1] * a[:, s]) * b[s, obs[t]]\n",
    "            phi[s, t] = np.argmax(delta[:, t-1] * a[:, s])\n",
    "            print('s={s} and t={t}: phi[{s}, {t}] = {phi}'.format(s=s, t=t, phi=phi[s,t]))\n",
    "            \n",
    "    print('\\n'+'-'*50)\n",
    "    print('\\nStart Backtrace\\n')\n",
    "    \n",
    "    path[T-1] = np.argmax(delta[:, T-1])\n",
    "    \n",
    "    for ti in range(T-2, -1, -1):\n",
    "        path[ti] = phi[int(path[ti+1]), ti+1]\n",
    "        print('path[{}] = {}'.format(ti, path[ti]))\n",
    "        \n",
    "    return path, delta, phi"
   ]
  },
  {
   "cell_type": "code",
   "execution_count": 32,
   "metadata": {},
   "outputs": [
    {
     "name": "stdout",
     "output_type": "stream",
     "text": [
      "\n",
      "Start Walk Forward\n",
      "\n",
      "s=0 and t=1: phi[0, 1] = 0.0\n",
      "s=1 and t=1: phi[1, 1] = 0.0\n",
      "s=0 and t=2: phi[0, 2] = 0.0\n",
      "s=1 and t=2: phi[1, 2] = 0.0\n",
      "s=0 and t=3: phi[0, 3] = 0.0\n",
      "s=1 and t=3: phi[1, 3] = 0.0\n",
      "s=0 and t=4: phi[0, 4] = 0.0\n",
      "s=1 and t=4: phi[1, 4] = 0.0\n",
      "s=0 and t=5: phi[0, 5] = 1.0\n",
      "s=1 and t=5: phi[1, 5] = 1.0\n",
      "s=0 and t=6: phi[0, 6] = 0.0\n",
      "s=1 and t=6: phi[1, 6] = 1.0\n",
      "s=0 and t=7: phi[0, 7] = 0.0\n",
      "s=1 and t=7: phi[1, 7] = 0.0\n",
      "s=0 and t=8: phi[0, 8] = 0.0\n",
      "s=1 and t=8: phi[1, 8] = 0.0\n",
      "s=0 and t=9: phi[0, 9] = 1.0\n",
      "s=1 and t=9: phi[1, 9] = 1.0\n",
      "s=0 and t=10: phi[0, 10] = 0.0\n",
      "s=1 and t=10: phi[1, 10] = 0.0\n",
      "s=0 and t=11: phi[0, 11] = 0.0\n",
      "s=1 and t=11: phi[1, 11] = 0.0\n",
      "s=0 and t=12: phi[0, 12] = 1.0\n",
      "s=1 and t=12: phi[1, 12] = 1.0\n",
      "s=0 and t=13: phi[0, 13] = 0.0\n",
      "s=1 and t=13: phi[1, 13] = 1.0\n",
      "s=0 and t=14: phi[0, 14] = 1.0\n",
      "s=1 and t=14: phi[1, 14] = 1.0\n",
      "\n",
      "--------------------------------------------------\n",
      "\n",
      "Start Backtrace\n",
      "\n",
      "path[13] = 1.0\n",
      "path[12] = 1.0\n",
      "path[11] = 1.0\n",
      "path[10] = 0.0\n",
      "path[9] = 0.0\n",
      "path[8] = 1.0\n",
      "path[7] = 0.0\n",
      "path[6] = 0.0\n",
      "path[5] = 0.0\n",
      "path[4] = 1.0\n",
      "path[3] = 0.0\n",
      "path[2] = 0.0\n",
      "path[1] = 0.0\n",
      "path[0] = 0.0\n",
      "\n",
      "single best state path: \n",
      " [0. 0. 0. 0. 1. 0. 0. 0. 1. 0. 0. 1. 1. 1. 1.]\n",
      "\n",
      "delta: \n",
      " [[2.40000000e-01 6.72000000e-02 2.35200000e-02 6.58560000e-03\n",
      "  4.60992000e-04 1.89665280e-04 6.63828480e-05 1.85871974e-05\n",
      "  1.30110382e-06 6.69139108e-07 2.34198688e-07 1.63939081e-08\n",
      "  6.74492221e-09 4.72144554e-10 4.37070959e-10]\n",
      " [1.20000000e-01 2.16000000e-02 2.01600000e-03 2.11680000e-03\n",
      "  1.18540800e-03 2.13373440e-04 1.28024064e-05 5.97445632e-06\n",
      "  3.34569554e-06 2.00741732e-07 2.00741732e-08 4.21557638e-08\n",
      "  7.58803748e-09 2.73169349e-09 4.91704829e-10]]\n",
      "\n",
      "phi: \n",
      " [[0. 0. 0. 0. 0. 1. 0. 0. 0. 1. 0. 0. 1. 0. 1.]\n",
      " [0. 0. 0. 0. 0. 1. 1. 0. 0. 1. 0. 0. 1. 1. 1.]]\n"
     ]
    }
   ],
   "source": [
    "path, delta, phi = viterbi(p0, w, s, obs)\n",
    "\n",
    "print('\\nsingle best state path: \\n', path)\n",
    "print('\\ndelta: \\n', delta)\n",
    "print('\\nphi: \\n', phi)"
   ]
  },
  {
   "cell_type": "code",
   "execution_count": 33,
   "metadata": {},
   "outputs": [
    {
     "data": {
      "text/plain": [
       "['rainy',\n",
       " 'rainy',\n",
       " 'rainy',\n",
       " 'rainy',\n",
       " 'sunny',\n",
       " 'rainy',\n",
       " 'rainy',\n",
       " 'rainy',\n",
       " 'sunny',\n",
       " 'rainy',\n",
       " 'rainy',\n",
       " 'sunny',\n",
       " 'sunny',\n",
       " 'sunny',\n",
       " 'sunny']"
      ]
     },
     "execution_count": 33,
     "metadata": {},
     "output_type": "execute_result"
    }
   ],
   "source": [
    "state_path = [state_map[v] for v in path]\n",
    "'''\n",
    "state_path = []\n",
    "\n",
    "for v in path:\n",
    "    state_path.append(state_map[v])\n",
    "'''\n",
    "state_path"
   ]
  },
  {
   "cell_type": "code",
   "execution_count": 34,
   "metadata": {},
   "outputs": [
    {
     "data": {
      "text/html": [
       "<div>\n",
       "<style scoped>\n",
       "    .dataframe tbody tr th:only-of-type {\n",
       "        vertical-align: middle;\n",
       "    }\n",
       "\n",
       "    .dataframe tbody tr th {\n",
       "        vertical-align: top;\n",
       "    }\n",
       "\n",
       "    .dataframe thead th {\n",
       "        text-align: right;\n",
       "    }\n",
       "</style>\n",
       "<table border=\"1\" class=\"dataframe\">\n",
       "  <thead>\n",
       "    <tr style=\"text-align: right;\">\n",
       "      <th></th>\n",
       "      <th>Observation</th>\n",
       "      <th>Best Path</th>\n",
       "    </tr>\n",
       "  </thead>\n",
       "  <tbody>\n",
       "    <tr>\n",
       "      <th>0</th>\n",
       "      <td>shopping</td>\n",
       "      <td>rainy</td>\n",
       "    </tr>\n",
       "    <tr>\n",
       "      <th>1</th>\n",
       "      <td>shopping</td>\n",
       "      <td>rainy</td>\n",
       "    </tr>\n",
       "    <tr>\n",
       "      <th>2</th>\n",
       "      <td>home</td>\n",
       "      <td>rainy</td>\n",
       "    </tr>\n",
       "    <tr>\n",
       "      <th>3</th>\n",
       "      <td>shopping</td>\n",
       "      <td>rainy</td>\n",
       "    </tr>\n",
       "    <tr>\n",
       "      <th>4</th>\n",
       "      <td>outing</td>\n",
       "      <td>sunny</td>\n",
       "    </tr>\n",
       "    <tr>\n",
       "      <th>5</th>\n",
       "      <td>shopping</td>\n",
       "      <td>rainy</td>\n",
       "    </tr>\n",
       "    <tr>\n",
       "      <th>6</th>\n",
       "      <td>home</td>\n",
       "      <td>rainy</td>\n",
       "    </tr>\n",
       "    <tr>\n",
       "      <th>7</th>\n",
       "      <td>shopping</td>\n",
       "      <td>rainy</td>\n",
       "    </tr>\n",
       "    <tr>\n",
       "      <th>8</th>\n",
       "      <td>outing</td>\n",
       "      <td>sunny</td>\n",
       "    </tr>\n",
       "    <tr>\n",
       "      <th>9</th>\n",
       "      <td>home</td>\n",
       "      <td>rainy</td>\n",
       "    </tr>\n",
       "    <tr>\n",
       "      <th>10</th>\n",
       "      <td>home</td>\n",
       "      <td>rainy</td>\n",
       "    </tr>\n",
       "    <tr>\n",
       "      <th>11</th>\n",
       "      <td>outing</td>\n",
       "      <td>sunny</td>\n",
       "    </tr>\n",
       "    <tr>\n",
       "      <th>12</th>\n",
       "      <td>shopping</td>\n",
       "      <td>sunny</td>\n",
       "    </tr>\n",
       "    <tr>\n",
       "      <th>13</th>\n",
       "      <td>outing</td>\n",
       "      <td>sunny</td>\n",
       "    </tr>\n",
       "    <tr>\n",
       "      <th>14</th>\n",
       "      <td>shopping</td>\n",
       "      <td>sunny</td>\n",
       "    </tr>\n",
       "  </tbody>\n",
       "</table>\n",
       "</div>"
      ],
      "text/plain": [
       "   Observation Best Path\n",
       "0     shopping     rainy\n",
       "1     shopping     rainy\n",
       "2         home     rainy\n",
       "3     shopping     rainy\n",
       "4       outing     sunny\n",
       "5     shopping     rainy\n",
       "6         home     rainy\n",
       "7     shopping     rainy\n",
       "8       outing     sunny\n",
       "9         home     rainy\n",
       "10        home     rainy\n",
       "11      outing     sunny\n",
       "12    shopping     sunny\n",
       "13      outing     sunny\n",
       "14    shopping     sunny"
      ]
     },
     "execution_count": 34,
     "metadata": {},
     "output_type": "execute_result"
    }
   ],
   "source": [
    "pd.DataFrame({\n",
    "    \"Observation\":obs_seq,\n",
    "    \"Best Path\":state_path\n",
    "})"
   ]
  },
  {
   "cell_type": "code",
   "execution_count": null,
   "metadata": {},
   "outputs": [],
   "source": []
  }
 ],
 "metadata": {
  "kernelspec": {
   "display_name": "Python [conda env:py3] *",
   "language": "python",
   "name": "conda-env-py3-py"
  },
  "language_info": {
   "codemirror_mode": {
    "name": "ipython",
    "version": 3
   },
   "file_extension": ".py",
   "mimetype": "text/x-python",
   "name": "python",
   "nbconvert_exporter": "python",
   "pygments_lexer": "ipython3",
   "version": "3.9.2"
  }
 },
 "nbformat": 4,
 "nbformat_minor": 2
}
